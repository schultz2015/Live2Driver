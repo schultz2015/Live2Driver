{
 "cells": [
  {
   "cell_type": "code",
   "execution_count": 1,
   "metadata": {},
   "outputs": [
    {
     "name": "stderr",
     "output_type": "stream",
     "text": [
      "d:\\anaconda\\envs\\fuck\\lib\\site-packages\\tqdm\\auto.py:21: TqdmWarning: IProgress not found. Please update jupyter and ipywidgets. See https://ipywidgets.readthedocs.io/en/stable/user_install.html\n",
      "  from .autonotebook import tqdm as notebook_tqdm\n"
     ]
    }
   ],
   "source": [
    "#引入库\n",
    "from __future__ import print_function, division\n",
    "import csv\n",
    "from PIL import Image\n",
    "import numpy as np\n",
    "import h5py\n",
    "import random\n",
    "import torch.utils.data as data\n",
    "import argparse\n",
    "import torch.optim as optim\n",
    "import torch\n",
    "import torch.nn as nn\n",
    "from torch.autograd import Variable\n",
    "import torch.nn.functional as F\n",
    "import matplotlib.pyplot as plt\n",
    "import os\n",
    "from torchvision import datasets, transforms\n",
    "import time\n",
    "from torch.utils.data import DataLoader, Dataset\n",
    "from tqdm import tqdm\n",
    "import time\n",
    "import torch\n",
    "import numpy as np\n",
    "import matplotlib.pyplot as plt\n",
    "from sklearn.metrics import confusion_matrix\n",
    "from torchvision import transforms\n",
    "import itertools\n",
    "import policy\n",
    "from policy import mixup_data,EarlyStopper\n",
    "\n",
    "#使用显卡\n",
    "torch.cuda.is_available()\n",
    "#显示显卡类型\n",
    "torch.cuda.get_device_name(0)\n",
    "torch.cuda.empty_cache()"
   ]
  },
  {
   "cell_type": "markdown",
   "metadata": {},
   "source": [
    "数据集"
   ]
  },
  {
   "cell_type": "code",
   "execution_count": 2,
   "metadata": {},
   "outputs": [],
   "source": [
    "import fer2013_dataset as FER2013"
   ]
  },
  {
   "cell_type": "code",
   "execution_count": 3,
   "metadata": {},
   "outputs": [],
   "source": [
    "batch_size = 128"
   ]
  },
  {
   "cell_type": "code",
   "execution_count": 4,
   "metadata": {},
   "outputs": [],
   "source": [
    "trainloader=FER2013.traindata(batch_size=batch_size)\n",
    "PublicTestloader=FER2013.validdata(batch_size=batch_size)\n",
    "PrivateTestloader=FER2013.testdata(batch_size=batch_size)"
   ]
  },
  {
   "cell_type": "code",
   "execution_count": 5,
   "metadata": {},
   "outputs": [],
   "source": [
    "import SEResNet\n",
    "device = torch.device(\"cuda:0\" if torch.cuda.is_available() else \"cpu\")\n",
    "model = SEResNet.se_resnet_18().to(device)\n",
    "best_model=model\n"
   ]
  },
  {
   "cell_type": "code",
   "execution_count": 6,
   "metadata": {},
   "outputs": [],
   "source": [
    "# import CBAM_ResNet18\n",
    "# device = torch.device(\"cuda:0\" if torch.cuda.is_available() else \"cpu\")\n",
    "# model = CBAM_ResNet18.cbam_resnet18().to(device)\n",
    "# best_model=model"
   ]
  },
  {
   "cell_type": "code",
   "execution_count": 7,
   "metadata": {},
   "outputs": [
    {
     "name": "stdout",
     "output_type": "stream",
     "text": [
      "Net(\n",
      "  (conv1): Conv2d(3, 64, kernel_size=(7, 7), stride=(2, 2), padding=(3, 3), bias=False)\n",
      "  (bn1): BatchNorm2d(64, eps=1e-05, momentum=0.1, affine=True, track_running_stats=True)\n",
      "  (relu): ReLU(inplace=True)\n",
      "  (maxpool): MaxPool2d(kernel_size=3, stride=2, padding=1, dilation=1, ceil_mode=False)\n",
      "  (layer1): Sequential(\n",
      "    (0): BasicBlock(\n",
      "      (conv1): Conv2d(64, 64, kernel_size=(3, 3), stride=(1, 1), padding=(1, 1), bias=False)\n",
      "      (bn1): BatchNorm2d(64, eps=1e-05, momentum=0.1, affine=True, track_running_stats=True)\n",
      "      (relu): ReLU(inplace=True)\n",
      "      (conv2): Conv2d(64, 64, kernel_size=(3, 3), stride=(1, 1), padding=(1, 1), bias=False)\n",
      "      (bn2): BatchNorm2d(64, eps=1e-05, momentum=0.1, affine=True, track_running_stats=True)\n",
      "      (globalAvgPool): AvgPool2d(kernel_size=56, stride=1, padding=0)\n",
      "      (fc1): Linear(in_features=64, out_features=4, bias=True)\n",
      "      (fc2): Linear(in_features=4, out_features=64, bias=True)\n",
      "      (sigmoid): Sigmoid()\n",
      "    )\n",
      "    (1): BasicBlock(\n",
      "      (conv1): Conv2d(64, 64, kernel_size=(3, 3), stride=(1, 1), padding=(1, 1), bias=False)\n",
      "      (bn1): BatchNorm2d(64, eps=1e-05, momentum=0.1, affine=True, track_running_stats=True)\n",
      "      (relu): ReLU(inplace=True)\n",
      "      (conv2): Conv2d(64, 64, kernel_size=(3, 3), stride=(1, 1), padding=(1, 1), bias=False)\n",
      "      (bn2): BatchNorm2d(64, eps=1e-05, momentum=0.1, affine=True, track_running_stats=True)\n",
      "      (globalAvgPool): AvgPool2d(kernel_size=56, stride=1, padding=0)\n",
      "      (fc1): Linear(in_features=64, out_features=4, bias=True)\n",
      "      (fc2): Linear(in_features=4, out_features=64, bias=True)\n",
      "      (sigmoid): Sigmoid()\n",
      "    )\n",
      "  )\n",
      "  (layer2): Sequential(\n",
      "    (0): BasicBlock(\n",
      "      (conv1): Conv2d(64, 128, kernel_size=(3, 3), stride=(2, 2), padding=(1, 1), bias=False)\n",
      "      (bn1): BatchNorm2d(128, eps=1e-05, momentum=0.1, affine=True, track_running_stats=True)\n",
      "      (relu): ReLU(inplace=True)\n",
      "      (conv2): Conv2d(128, 128, kernel_size=(3, 3), stride=(1, 1), padding=(1, 1), bias=False)\n",
      "      (bn2): BatchNorm2d(128, eps=1e-05, momentum=0.1, affine=True, track_running_stats=True)\n",
      "      (downsample): Sequential(\n",
      "        (0): Conv2d(64, 128, kernel_size=(1, 1), stride=(2, 2), bias=False)\n",
      "        (1): BatchNorm2d(128, eps=1e-05, momentum=0.1, affine=True, track_running_stats=True)\n",
      "      )\n",
      "      (globalAvgPool): AvgPool2d(kernel_size=28, stride=1, padding=0)\n",
      "      (fc1): Linear(in_features=128, out_features=8, bias=True)\n",
      "      (fc2): Linear(in_features=8, out_features=128, bias=True)\n",
      "      (sigmoid): Sigmoid()\n",
      "    )\n",
      "    (1): BasicBlock(\n",
      "      (conv1): Conv2d(128, 128, kernel_size=(3, 3), stride=(1, 1), padding=(1, 1), bias=False)\n",
      "      (bn1): BatchNorm2d(128, eps=1e-05, momentum=0.1, affine=True, track_running_stats=True)\n",
      "      (relu): ReLU(inplace=True)\n",
      "      (conv2): Conv2d(128, 128, kernel_size=(3, 3), stride=(1, 1), padding=(1, 1), bias=False)\n",
      "      (bn2): BatchNorm2d(128, eps=1e-05, momentum=0.1, affine=True, track_running_stats=True)\n",
      "      (globalAvgPool): AvgPool2d(kernel_size=28, stride=1, padding=0)\n",
      "      (fc1): Linear(in_features=128, out_features=8, bias=True)\n",
      "      (fc2): Linear(in_features=8, out_features=128, bias=True)\n",
      "      (sigmoid): Sigmoid()\n",
      "    )\n",
      "  )\n",
      "  (layer3): Sequential(\n",
      "    (0): BasicBlock(\n",
      "      (conv1): Conv2d(128, 256, kernel_size=(3, 3), stride=(2, 2), padding=(1, 1), bias=False)\n",
      "      (bn1): BatchNorm2d(256, eps=1e-05, momentum=0.1, affine=True, track_running_stats=True)\n",
      "      (relu): ReLU(inplace=True)\n",
      "      (conv2): Conv2d(256, 256, kernel_size=(3, 3), stride=(1, 1), padding=(1, 1), bias=False)\n",
      "      (bn2): BatchNorm2d(256, eps=1e-05, momentum=0.1, affine=True, track_running_stats=True)\n",
      "      (downsample): Sequential(\n",
      "        (0): Conv2d(128, 256, kernel_size=(1, 1), stride=(2, 2), bias=False)\n",
      "        (1): BatchNorm2d(256, eps=1e-05, momentum=0.1, affine=True, track_running_stats=True)\n",
      "      )\n",
      "      (globalAvgPool): AvgPool2d(kernel_size=14, stride=1, padding=0)\n",
      "      (fc1): Linear(in_features=256, out_features=16, bias=True)\n",
      "      (fc2): Linear(in_features=16, out_features=256, bias=True)\n",
      "      (sigmoid): Sigmoid()\n",
      "    )\n",
      "    (1): BasicBlock(\n",
      "      (conv1): Conv2d(256, 256, kernel_size=(3, 3), stride=(1, 1), padding=(1, 1), bias=False)\n",
      "      (bn1): BatchNorm2d(256, eps=1e-05, momentum=0.1, affine=True, track_running_stats=True)\n",
      "      (relu): ReLU(inplace=True)\n",
      "      (conv2): Conv2d(256, 256, kernel_size=(3, 3), stride=(1, 1), padding=(1, 1), bias=False)\n",
      "      (bn2): BatchNorm2d(256, eps=1e-05, momentum=0.1, affine=True, track_running_stats=True)\n",
      "      (globalAvgPool): AvgPool2d(kernel_size=14, stride=1, padding=0)\n",
      "      (fc1): Linear(in_features=256, out_features=16, bias=True)\n",
      "      (fc2): Linear(in_features=16, out_features=256, bias=True)\n",
      "      (sigmoid): Sigmoid()\n",
      "    )\n",
      "  )\n",
      "  (layer4): Sequential(\n",
      "    (0): BasicBlock(\n",
      "      (conv1): Conv2d(256, 512, kernel_size=(3, 3), stride=(2, 2), padding=(1, 1), bias=False)\n",
      "      (bn1): BatchNorm2d(512, eps=1e-05, momentum=0.1, affine=True, track_running_stats=True)\n",
      "      (relu): ReLU(inplace=True)\n",
      "      (conv2): Conv2d(512, 512, kernel_size=(3, 3), stride=(1, 1), padding=(1, 1), bias=False)\n",
      "      (bn2): BatchNorm2d(512, eps=1e-05, momentum=0.1, affine=True, track_running_stats=True)\n",
      "      (downsample): Sequential(\n",
      "        (0): Conv2d(256, 512, kernel_size=(1, 1), stride=(2, 2), bias=False)\n",
      "        (1): BatchNorm2d(512, eps=1e-05, momentum=0.1, affine=True, track_running_stats=True)\n",
      "      )\n",
      "      (globalAvgPool): AvgPool2d(kernel_size=7, stride=1, padding=0)\n",
      "      (fc1): Linear(in_features=512, out_features=32, bias=True)\n",
      "      (fc2): Linear(in_features=32, out_features=512, bias=True)\n",
      "      (sigmoid): Sigmoid()\n",
      "    )\n",
      "    (1): BasicBlock(\n",
      "      (conv1): Conv2d(512, 512, kernel_size=(3, 3), stride=(1, 1), padding=(1, 1), bias=False)\n",
      "      (bn1): BatchNorm2d(512, eps=1e-05, momentum=0.1, affine=True, track_running_stats=True)\n",
      "      (relu): ReLU(inplace=True)\n",
      "      (conv2): Conv2d(512, 512, kernel_size=(3, 3), stride=(1, 1), padding=(1, 1), bias=False)\n",
      "      (bn2): BatchNorm2d(512, eps=1e-05, momentum=0.1, affine=True, track_running_stats=True)\n",
      "      (globalAvgPool): AvgPool2d(kernel_size=7, stride=1, padding=0)\n",
      "      (fc1): Linear(in_features=512, out_features=32, bias=True)\n",
      "      (fc2): Linear(in_features=32, out_features=512, bias=True)\n",
      "      (sigmoid): Sigmoid()\n",
      "    )\n",
      "  )\n",
      "  (avgpool): AvgPool2d(kernel_size=7, stride=1, padding=0)\n",
      "  (fc): Linear(in_features=512, out_features=1000, bias=True)\n",
      ")\n"
     ]
    }
   ],
   "source": [
    "print(model)"
   ]
  },
  {
   "cell_type": "code",
   "execution_count": 8,
   "metadata": {},
   "outputs": [],
   "source": [
    "\n",
    "early_stopper = EarlyStopper(patience=5, min_delta=0.1)"
   ]
  },
  {
   "cell_type": "markdown",
   "metadata": {},
   "source": [
    "加载损失函数及优化器"
   ]
  },
  {
   "cell_type": "code",
   "execution_count": 9,
   "metadata": {},
   "outputs": [],
   "source": [
    "# from transformers import get_cosine_schedule_with_warmup\n",
    "# warmup_steps = 5\n",
    "# learning_rate= 0.01\n",
    "# optimizer = torch.optim.Adam(model .parameters(), lr=learning_rate)  \n",
    "# scheduler = get_cosine_schedule_with_warmup(optimizer, num_warmup_steps=warmup_steps, num_training_steps=40)\n",
    "# loss_func = nn.CrossEntropyLoss()  "
   ]
  },
  {
   "cell_type": "code",
   "execution_count": 10,
   "metadata": {},
   "outputs": [],
   "source": [
    "import torch\n",
    "from torch.optim import lr_scheduler\n",
    "# import CyclicLRWithRestarts\n",
    "learning_rate= 0.1\n",
    "# optimizer = torch.optim.AdamW(model.parameters(), lr=learning_rate,weight_decay=0.01)\n",
    "# scheduler = lr_scheduler.MultiStepLR(optimizer, milestones=[30,60], gamma=0.1)\n",
    "optimizer = torch.optim.SGD(model.parameters(), lr=learning_rate, momentum=0.9, weight_decay=1e-4, nesterov=True)\n",
    "# scheduler = lr_scheduler.StepLR(optimizer, step_size=10, gamma=0.5)\n",
    "# 创建 CosineAnnealingLR 对象，周期设置为 10，最小学习率设置为 0.01\n",
    "scheduler = torch.optim.lr_scheduler.CosineAnnealingLR(optimizer, T_max=300)\n",
    "\n",
    "\n",
    "# scheduler = CyclicLRWithRestarts.CyclicLRWithRestarts(optimizer, 128, len(trainloader.dataset), restart_period=5, t_mult=1.2, policy=\"cosine\")\n",
    "# scheduler = torch.optim.lr_scheduler.CosineAnnealingWarmRestarts(optimizer,T_0=5,T_mult=2)\n",
    "# scheduler = torch.optim.lr_scheduler.OneCycleLR(optimizer, max_lr=0.01, steps_per_epoch=len(trainloader), epochs=120)\n",
    "\n",
    "# optimizer = torch.optim.SGD(model.parameters(), lr=0.1)\n",
    "# mode='cosineAnnWarm'\n",
    "# if mode=='cosineAnn':\n",
    "#     scheduler = CosineAnnealingLR(optimizer, T_max=5, eta_min=0)\n",
    "# elif mode=='cosineAnnWarm':\n",
    "#     scheduler = CosineAnnealingWarmRestarts(optimizer,T_0=5,T_mult=1)\n",
    "\n",
    "# optimizer = optim.AdamW(model.parameters(),lr=1) #一阶动量和二阶动量都用起来，就是 Adam 了——Adaptive + Momentum。\n",
    "# scheduel = CosineAnnealingWarmRestarts(optimizer,T_0 = 2,T_mult=1,eta_min=0,last_epoch=-1)#T_0就是初始restart的epoch数目，T_mult就是重启之后因子，默认是1。我觉得可以这样理解，每个restart后，T_0 = T_0 * T_mult。当T_mult默认时，\n",
    "\n",
    "\n",
    "# # scheduler = lr_scheduler.StepLR(optimizer, step_size=10, gamma=0.5)\n",
    "# optimizer = torch.optim.SGD(model.parameters(), lr=learning_rate, momentum=0.9, weight_decay=1e-4, nesterov=True)\n",
    "# # scheduler = torch.optim.lr_scheduler.ReduceLROnPlateau(optimizer, mode='min', factor=0.75, patience=3, verbose=True)\n"
   ]
  },
  {
   "cell_type": "code",
   "execution_count": 11,
   "metadata": {},
   "outputs": [],
   "source": [
    "\n",
    "loss_func = nn.CrossEntropyLoss()\n"
   ]
  },
  {
   "cell_type": "code",
   "execution_count": 12,
   "metadata": {},
   "outputs": [],
   "source": [
    "def accuracy(predictions, labels):\n",
    "    pred = torch.max(predictions.data, 1)[1]\n",
    "    rights = pred.eq(labels.data.view_as(pred)).sum()\n",
    "    return rights, len(labels)"
   ]
  },
  {
   "cell_type": "code",
   "execution_count": 13,
   "metadata": {},
   "outputs": [],
   "source": [
    "train_acc = []\n",
    "valid_acc= []\n",
    "train_loss_list = []\n",
    "valid_loss_list = []\n",
    "lr_log=[]"
   ]
  },
  {
   "cell_type": "code",
   "execution_count": 14,
   "metadata": {},
   "outputs": [],
   "source": [
    "from torch.cuda.amp import GradScaler, autocast\n",
    "scaler = GradScaler()"
   ]
  },
  {
   "cell_type": "code",
   "execution_count": 15,
   "metadata": {},
   "outputs": [],
   "source": [
    "epoch = 300\n",
    "model=best_model"
   ]
  },
  {
   "cell_type": "code",
   "execution_count": 41,
   "metadata": {},
   "outputs": [
    {
     "name": "stderr",
     "output_type": "stream",
     "text": [
      "Training: 100%|██████████| 225/225 [02:42<00:00,  1.38it/s]\n",
      "Validing: 100%|██████████| 29/29 [00:06<00:00,  4.26it/s]\n"
     ]
    },
    {
     "name": "stdout",
     "output_type": "stream",
     "text": [
      "epoch：0\t训练损失:2.039371\t测试损失:1.790582\t训练准确率:23.67%\t测试正确率:25.63%\t学习率:0.099997%\n",
      "best_model_saved 25.633881303984396\n"
     ]
    },
    {
     "name": "stderr",
     "output_type": "stream",
     "text": [
      "Training: 100%|██████████| 225/225 [02:41<00:00,  1.40it/s]\n",
      "Validing: 100%|██████████| 29/29 [00:06<00:00,  4.29it/s]\n"
     ]
    },
    {
     "name": "stdout",
     "output_type": "stream",
     "text": [
      "epoch：1\t训练损失:1.814914\t测试损失:1.803333\t训练准确率:24.44%\t测试正确率:25.24%\t学习率:0.099989%\n"
     ]
    },
    {
     "name": "stderr",
     "output_type": "stream",
     "text": [
      "Training: 100%|██████████| 225/225 [02:38<00:00,  1.42it/s]\n",
      "Validing: 100%|██████████| 29/29 [00:06<00:00,  4.20it/s]\n"
     ]
    },
    {
     "name": "stdout",
     "output_type": "stream",
     "text": [
      "epoch：2\t训练损失:1.813052\t测试损失:1.782534\t训练准确率:24.85%\t测试正确率:25.49%\t学习率:0.099975%\n"
     ]
    },
    {
     "name": "stderr",
     "output_type": "stream",
     "text": [
      "Training: 100%|██████████| 225/225 [02:39<00:00,  1.41it/s]\n",
      "Validing: 100%|██████████| 29/29 [00:06<00:00,  4.25it/s]\n"
     ]
    },
    {
     "name": "stdout",
     "output_type": "stream",
     "text": [
      "epoch：3\t训练损失:1.809144\t测试损失:1.768814\t训练准确率:24.99%\t测试正确率:26.58%\t学习率:0.099956%\n",
      "best_model_saved 26.58122039565339\n"
     ]
    },
    {
     "name": "stderr",
     "output_type": "stream",
     "text": [
      "Training: 100%|██████████| 225/225 [02:39<00:00,  1.41it/s]\n",
      "Validing: 100%|██████████| 29/29 [00:06<00:00,  4.28it/s]\n"
     ]
    },
    {
     "name": "stdout",
     "output_type": "stream",
     "text": [
      "epoch：4\t训练损失:1.801171\t测试损失:1.865076\t训练准确率:25.82%\t测试正确率:25.69%\t学习率:0.099931%\n"
     ]
    },
    {
     "name": "stderr",
     "output_type": "stream",
     "text": [
      "Training: 100%|██████████| 225/225 [02:39<00:00,  1.41it/s]\n",
      "Validing: 100%|██████████| 29/29 [00:06<00:00,  4.20it/s]\n"
     ]
    },
    {
     "name": "stdout",
     "output_type": "stream",
     "text": [
      "epoch：5\t训练损失:1.782288\t测试损失:1.723251\t训练准确率:27.45%\t测试正确率:30.43%\t学习率:0.099901%\n",
      "best_model_saved 30.42630259125104\n"
     ]
    },
    {
     "name": "stderr",
     "output_type": "stream",
     "text": [
      "Training: 100%|██████████| 225/225 [02:40<00:00,  1.40it/s]\n",
      "Validing: 100%|██████████| 29/29 [00:06<00:00,  4.28it/s]\n"
     ]
    },
    {
     "name": "stdout",
     "output_type": "stream",
     "text": [
      "epoch：6\t训练损失:1.749147\t测试损失:1.557846\t训练准确率:31.31%\t测试正确率:41.04%\t学习率:0.099866%\n",
      "best_model_saved 41.042073000835884\n"
     ]
    },
    {
     "name": "stderr",
     "output_type": "stream",
     "text": [
      "Training: 100%|██████████| 225/225 [02:40<00:00,  1.40it/s]\n",
      "Validing: 100%|██████████| 29/29 [00:06<00:00,  4.24it/s]\n"
     ]
    },
    {
     "name": "stdout",
     "output_type": "stream",
     "text": [
      "epoch：7\t训练损失:1.682191\t测试损失:1.465913\t训练准确率:37.53%\t测试正确率:43.55%\t学习率:0.099825%\n",
      "best_model_saved 43.54973530231262\n"
     ]
    },
    {
     "name": "stderr",
     "output_type": "stream",
     "text": [
      "Training: 100%|██████████| 225/225 [02:40<00:00,  1.40it/s]\n",
      "Validing: 100%|██████████| 29/29 [00:06<00:00,  4.28it/s]\n"
     ]
    },
    {
     "name": "stdout",
     "output_type": "stream",
     "text": [
      "epoch：8\t训练损失:1.645367\t测试损失:1.342593\t训练准确率:41.83%\t测试正确率:49.26%\t学习率:0.099778%\n",
      "best_model_saved 49.26163276678741\n"
     ]
    },
    {
     "name": "stderr",
     "output_type": "stream",
     "text": [
      "Training: 100%|██████████| 225/225 [02:40<00:00,  1.40it/s]\n",
      "Validing: 100%|██████████| 29/29 [00:06<00:00,  4.27it/s]\n"
     ]
    },
    {
     "name": "stdout",
     "output_type": "stream",
     "text": [
      "epoch：9\t训练损失:1.598314\t测试损失:1.278859\t训练准确率:45.04%\t测试正确率:51.74%\t学习率:0.099726%\n",
      "best_model_saved 51.74143215380329\n"
     ]
    },
    {
     "name": "stderr",
     "output_type": "stream",
     "text": [
      "Training: 100%|██████████| 225/225 [02:40<00:00,  1.40it/s]\n",
      "Validing: 100%|██████████| 29/29 [00:06<00:00,  4.24it/s]\n"
     ]
    },
    {
     "name": "stdout",
     "output_type": "stream",
     "text": [
      "epoch：10\t训练损失:1.589475\t测试损失:1.344204\t训练准确率:47.56%\t测试正确率:53.41%\t学习率:0.099669%\n",
      "best_model_saved 53.41320702145445\n"
     ]
    },
    {
     "name": "stderr",
     "output_type": "stream",
     "text": [
      "Training: 100%|██████████| 225/225 [02:40<00:00,  1.40it/s]\n",
      "Validing: 100%|██████████| 29/29 [00:06<00:00,  4.24it/s]\n"
     ]
    },
    {
     "name": "stdout",
     "output_type": "stream",
     "text": [
      "epoch：11\t训练损失:1.538111\t测试损失:1.231109\t训练准确率:49.89%\t测试正确率:52.72%\t学习率:0.099606%\n"
     ]
    },
    {
     "name": "stderr",
     "output_type": "stream",
     "text": [
      "Training: 100%|██████████| 225/225 [02:41<00:00,  1.40it/s]\n",
      "Validing: 100%|██████████| 29/29 [00:06<00:00,  4.23it/s]\n"
     ]
    },
    {
     "name": "stdout",
     "output_type": "stream",
     "text": [
      "epoch：12\t训练损失:1.546956\t测试损失:1.312522\t训练准确率:50.88%\t测试正确率:51.16%\t学习率:0.099537%\n"
     ]
    },
    {
     "name": "stderr",
     "output_type": "stream",
     "text": [
      "Training: 100%|██████████| 225/225 [02:40<00:00,  1.40it/s]\n",
      "Validing: 100%|██████████| 29/29 [00:06<00:00,  4.25it/s]\n"
     ]
    },
    {
     "name": "stdout",
     "output_type": "stream",
     "text": [
      "epoch：13\t训练损失:1.551351\t测试损失:1.262808\t训练准确率:52.02%\t测试正确率:56.09%\t学习率:0.099464%\n",
      "best_model_saved 56.08804680969629\n"
     ]
    },
    {
     "name": "stderr",
     "output_type": "stream",
     "text": [
      "Training: 100%|██████████| 225/225 [02:39<00:00,  1.41it/s]\n",
      "Validing: 100%|██████████| 29/29 [00:06<00:00,  4.26it/s]\n"
     ]
    },
    {
     "name": "stdout",
     "output_type": "stream",
     "text": [
      "epoch：14\t训练损失:1.505347\t测试损失:1.283999\t训练准确率:52.94%\t测试正确率:53.80%\t学习率:0.099384%\n"
     ]
    },
    {
     "name": "stderr",
     "output_type": "stream",
     "text": [
      "Training: 100%|██████████| 225/225 [02:40<00:00,  1.40it/s]\n",
      "Validing: 100%|██████████| 29/29 [00:06<00:00,  4.30it/s]\n"
     ]
    },
    {
     "name": "stdout",
     "output_type": "stream",
     "text": [
      "epoch：15\t训练损失:1.476154\t测试损失:1.176762\t训练准确率:54.25%\t测试正确率:57.45%\t学习率:0.099300%\n",
      "best_model_saved 57.45332961827807\n"
     ]
    },
    {
     "name": "stderr",
     "output_type": "stream",
     "text": [
      "Training: 100%|██████████| 225/225 [02:39<00:00,  1.41it/s]\n",
      "Validing: 100%|██████████| 29/29 [00:06<00:00,  4.24it/s]\n"
     ]
    },
    {
     "name": "stdout",
     "output_type": "stream",
     "text": [
      "epoch：16\t训练损失:1.482346\t测试损失:1.277094\t训练准确率:55.08%\t测试正确率:56.67%\t学习率:0.099210%\n"
     ]
    },
    {
     "name": "stderr",
     "output_type": "stream",
     "text": [
      "Training: 100%|██████████| 225/225 [02:40<00:00,  1.40it/s]\n",
      "Validing: 100%|██████████| 29/29 [00:06<00:00,  4.26it/s]\n"
     ]
    },
    {
     "name": "stdout",
     "output_type": "stream",
     "text": [
      "epoch：17\t训练损失:1.472041\t测试损失:1.201613\t训练准确率:55.91%\t测试正确率:57.23%\t学习率:0.099114%\n"
     ]
    },
    {
     "name": "stderr",
     "output_type": "stream",
     "text": [
      "Training: 100%|██████████| 225/225 [02:40<00:00,  1.40it/s]\n",
      "Validing: 100%|██████████| 29/29 [00:07<00:00,  4.08it/s]\n"
     ]
    },
    {
     "name": "stdout",
     "output_type": "stream",
     "text": [
      "epoch：18\t训练损失:1.437857\t测试损失:1.193031\t训练准确率:56.69%\t测试正确率:57.51%\t学习率:0.099014%\n",
      "best_model_saved 57.50905544719978\n"
     ]
    },
    {
     "name": "stderr",
     "output_type": "stream",
     "text": [
      "Training: 100%|██████████| 225/225 [02:40<00:00,  1.40it/s]\n",
      "Validing: 100%|██████████| 29/29 [00:06<00:00,  4.19it/s]\n"
     ]
    },
    {
     "name": "stdout",
     "output_type": "stream",
     "text": [
      "epoch：19\t训练损失:1.527351\t测试损失:1.239777\t训练准确率:56.49%\t测试正确率:56.78%\t学习率:0.098907%\n"
     ]
    },
    {
     "name": "stderr",
     "output_type": "stream",
     "text": [
      "Training: 100%|██████████| 225/225 [02:40<00:00,  1.41it/s]\n",
      "Validing: 100%|██████████| 29/29 [00:06<00:00,  4.24it/s]\n"
     ]
    },
    {
     "name": "stdout",
     "output_type": "stream",
     "text": [
      "epoch：20\t训练损失:1.469944\t测试损失:1.221131\t训练准确率:57.48%\t测试正确率:56.31%\t学习率:0.098796%\n"
     ]
    },
    {
     "name": "stderr",
     "output_type": "stream",
     "text": [
      "Training: 100%|██████████| 225/225 [02:41<00:00,  1.40it/s]\n",
      "Validing: 100%|██████████| 29/29 [00:06<00:00,  4.27it/s]\n"
     ]
    },
    {
     "name": "stdout",
     "output_type": "stream",
     "text": [
      "epoch：21\t训练损失:1.422972\t测试损失:1.136220\t训练准确率:58.12%\t测试正确率:61.13%\t学习率:0.098679%\n",
      "best_model_saved 61.13123432711062\n"
     ]
    },
    {
     "name": "stderr",
     "output_type": "stream",
     "text": [
      "Training: 100%|██████████| 225/225 [02:40<00:00,  1.40it/s]\n",
      "Validing: 100%|██████████| 29/29 [00:06<00:00,  4.26it/s]\n"
     ]
    },
    {
     "name": "stdout",
     "output_type": "stream",
     "text": [
      "epoch：22\t训练损失:1.426720\t测试损失:1.144751\t训练准确率:58.52%\t测试正确率:59.54%\t学习率:0.098557%\n"
     ]
    },
    {
     "name": "stderr",
     "output_type": "stream",
     "text": [
      "Training: 100%|██████████| 225/225 [02:42<00:00,  1.39it/s]\n",
      "Validing: 100%|██████████| 29/29 [00:06<00:00,  4.28it/s]\n"
     ]
    },
    {
     "name": "stdout",
     "output_type": "stream",
     "text": [
      "epoch：23\t训练损失:1.446015\t测试损失:1.083486\t训练准确率:58.86%\t测试正确率:60.96%\t学习率:0.098429%\n"
     ]
    },
    {
     "name": "stderr",
     "output_type": "stream",
     "text": [
      "Training: 100%|██████████| 225/225 [02:39<00:00,  1.41it/s]\n",
      "Validing: 100%|██████████| 29/29 [00:06<00:00,  4.29it/s]\n"
     ]
    },
    {
     "name": "stdout",
     "output_type": "stream",
     "text": [
      "epoch：24\t训练损失:1.406627\t测试损失:1.153489\t训练准确率:59.24%\t测试正确率:59.10%\t学习率:0.098296%\n"
     ]
    },
    {
     "name": "stderr",
     "output_type": "stream",
     "text": [
      "Training: 100%|██████████| 225/225 [02:39<00:00,  1.41it/s]\n",
      "Validing: 100%|██████████| 29/29 [00:06<00:00,  4.28it/s]\n"
     ]
    },
    {
     "name": "stdout",
     "output_type": "stream",
     "text": [
      "epoch：25\t训练损失:1.436662\t测试损失:1.029753\t训练准确率:59.43%\t测试正确率:61.94%\t学习率:0.098158%\n",
      "best_model_saved 61.93925884647534\n"
     ]
    },
    {
     "name": "stderr",
     "output_type": "stream",
     "text": [
      "Training: 100%|██████████| 225/225 [02:39<00:00,  1.41it/s]\n",
      "Validing: 100%|██████████| 29/29 [00:06<00:00,  4.30it/s]\n"
     ]
    },
    {
     "name": "stdout",
     "output_type": "stream",
     "text": [
      "epoch：26\t训练损失:1.442679\t测试损失:1.159196\t训练准确率:59.78%\t测试正确率:61.08%\t学习率:0.098015%\n"
     ]
    },
    {
     "name": "stderr",
     "output_type": "stream",
     "text": [
      "Training: 100%|██████████| 225/225 [02:38<00:00,  1.42it/s]\n",
      "Validing: 100%|██████████| 29/29 [00:06<00:00,  4.31it/s]\n"
     ]
    },
    {
     "name": "stdout",
     "output_type": "stream",
     "text": [
      "epoch：27\t训练损失:1.402712\t测试损失:1.066139\t训练准确率:60.11%\t测试正确率:61.91%\t学习率:0.097866%\n"
     ]
    },
    {
     "name": "stderr",
     "output_type": "stream",
     "text": [
      "Training: 100%|██████████| 225/225 [02:39<00:00,  1.41it/s]\n",
      "Validing: 100%|██████████| 29/29 [00:06<00:00,  4.36it/s]\n"
     ]
    },
    {
     "name": "stdout",
     "output_type": "stream",
     "text": [
      "epoch：28\t训练损失:1.418197\t测试损失:1.124236\t训练准确率:60.74%\t测试正确率:61.91%\t学习率:0.097712%\n"
     ]
    },
    {
     "name": "stderr",
     "output_type": "stream",
     "text": [
      "Training: 100%|██████████| 225/225 [02:39<00:00,  1.41it/s]\n",
      "Validing: 100%|██████████| 29/29 [00:06<00:00,  4.28it/s]\n"
     ]
    },
    {
     "name": "stdout",
     "output_type": "stream",
     "text": [
      "epoch：29\t训练损失:1.423328\t测试损失:1.057674\t训练准确率:60.97%\t测试正确率:63.03%\t学习率:0.097553%\n",
      "best_model_saved 63.02591251044859\n"
     ]
    },
    {
     "name": "stderr",
     "output_type": "stream",
     "text": [
      "Training: 100%|██████████| 225/225 [02:39<00:00,  1.41it/s]\n",
      "Validing: 100%|██████████| 29/29 [00:06<00:00,  4.28it/s]\n"
     ]
    },
    {
     "name": "stdout",
     "output_type": "stream",
     "text": [
      "epoch：30\t训练损失:1.432439\t测试损失:1.123751\t训练准确率:61.24%\t测试正确率:60.80%\t学习率:0.097388%\n"
     ]
    },
    {
     "name": "stderr",
     "output_type": "stream",
     "text": [
      "Training: 100%|██████████| 225/225 [02:41<00:00,  1.40it/s]\n",
      "Validing: 100%|██████████| 29/29 [00:06<00:00,  4.25it/s]\n"
     ]
    },
    {
     "name": "stdout",
     "output_type": "stream",
     "text": [
      "epoch：31\t训练损失:1.411961\t测试损失:1.073093\t训练准确率:61.62%\t测试正确率:63.67%\t学习率:0.097219%\n",
      "best_model_saved 63.6667595430482\n"
     ]
    },
    {
     "name": "stderr",
     "output_type": "stream",
     "text": [
      "Training: 100%|██████████| 225/225 [02:41<00:00,  1.39it/s]\n",
      "Validing: 100%|██████████| 29/29 [00:06<00:00,  4.24it/s]\n"
     ]
    },
    {
     "name": "stdout",
     "output_type": "stream",
     "text": [
      "epoch：32\t训练损失:1.376166\t测试损失:1.082438\t训练准确率:61.88%\t测试正确率:63.69%\t学习率:0.097044%\n",
      "best_model_saved 63.694622457509055\n"
     ]
    },
    {
     "name": "stderr",
     "output_type": "stream",
     "text": [
      "Training: 100%|██████████| 225/225 [02:39<00:00,  1.41it/s]\n",
      "Validing: 100%|██████████| 29/29 [00:06<00:00,  4.31it/s]\n"
     ]
    },
    {
     "name": "stdout",
     "output_type": "stream",
     "text": [
      "epoch：33\t训练损失:1.388558\t测试损失:1.073173\t训练准确率:62.13%\t测试正确率:63.75%\t学习率:0.096864%\n",
      "best_model_saved 63.75034828643076\n"
     ]
    },
    {
     "name": "stderr",
     "output_type": "stream",
     "text": [
      "Training: 100%|██████████| 225/225 [02:41<00:00,  1.40it/s]\n",
      "Validing: 100%|██████████| 29/29 [00:06<00:00,  4.26it/s]\n"
     ]
    },
    {
     "name": "stdout",
     "output_type": "stream",
     "text": [
      "epoch：34\t训练损失:1.375888\t测试损失:1.074748\t训练准确率:61.72%\t测试正确率:64.14%\t学习率:0.096679%\n",
      "best_model_saved 64.1404290888827\n"
     ]
    },
    {
     "name": "stderr",
     "output_type": "stream",
     "text": [
      "Training: 100%|██████████| 225/225 [02:39<00:00,  1.41it/s]\n",
      "Validing: 100%|██████████| 29/29 [00:06<00:00,  4.26it/s]\n"
     ]
    },
    {
     "name": "stdout",
     "output_type": "stream",
     "text": [
      "epoch：35\t训练损失:1.362801\t测试损失:1.023376\t训练准确率:62.87%\t测试正确率:65.14%\t学习率:0.096489%\n",
      "best_model_saved 65.14349400947339\n"
     ]
    },
    {
     "name": "stderr",
     "output_type": "stream",
     "text": [
      "Training: 100%|██████████| 225/225 [02:40<00:00,  1.40it/s]\n",
      "Validing: 100%|██████████| 29/29 [00:06<00:00,  4.26it/s]\n"
     ]
    },
    {
     "name": "stdout",
     "output_type": "stream",
     "text": [
      "epoch：36\t训练损失:1.365498\t测试损失:1.038193\t训练准确率:62.98%\t测试正确率:60.46%\t学习率:0.096294%\n"
     ]
    },
    {
     "name": "stderr",
     "output_type": "stream",
     "text": [
      "Training: 100%|██████████| 225/225 [02:38<00:00,  1.42it/s]\n",
      "Validing: 100%|██████████| 29/29 [00:06<00:00,  4.22it/s]\n"
     ]
    },
    {
     "name": "stdout",
     "output_type": "stream",
     "text": [
      "epoch：37\t训练损失:1.396767\t测试损失:1.069785\t训练准确率:63.03%\t测试正确率:62.13%\t学习率:0.096093%\n"
     ]
    },
    {
     "name": "stderr",
     "output_type": "stream",
     "text": [
      "Training: 100%|██████████| 225/225 [02:40<00:00,  1.41it/s]\n",
      "Validing: 100%|██████████| 29/29 [00:06<00:00,  4.26it/s]\n"
     ]
    },
    {
     "name": "stdout",
     "output_type": "stream",
     "text": [
      "epoch：38\t训练损失:1.370334\t测试损失:1.046959\t训练准确率:63.07%\t测试正确率:62.86%\t学习率:0.095888%\n"
     ]
    },
    {
     "name": "stderr",
     "output_type": "stream",
     "text": [
      "Training: 100%|██████████| 225/225 [02:39<00:00,  1.41it/s]\n",
      "Validing: 100%|██████████| 29/29 [00:06<00:00,  4.25it/s]\n"
     ]
    },
    {
     "name": "stdout",
     "output_type": "stream",
     "text": [
      "epoch：39\t训练损失:1.351091\t测试损失:1.000797\t训练准确率:63.52%\t测试正确率:63.33%\t学习率:0.095677%\n"
     ]
    },
    {
     "name": "stderr",
     "output_type": "stream",
     "text": [
      "Training: 100%|██████████| 225/225 [02:40<00:00,  1.40it/s]\n",
      "Validing: 100%|██████████| 29/29 [00:06<00:00,  4.31it/s]\n"
     ]
    },
    {
     "name": "stdout",
     "output_type": "stream",
     "text": [
      "epoch：40\t训练损失:1.361022\t测试损失:1.046775\t训练准确率:64.22%\t测试正确率:65.09%\t学习率:0.095462%\n"
     ]
    },
    {
     "name": "stderr",
     "output_type": "stream",
     "text": [
      "Training: 100%|██████████| 225/225 [02:39<00:00,  1.41it/s]\n",
      "Validing: 100%|██████████| 29/29 [00:06<00:00,  4.22it/s]\n"
     ]
    },
    {
     "name": "stdout",
     "output_type": "stream",
     "text": [
      "epoch：41\t训练损失:1.325695\t测试损失:1.024264\t训练准确率:63.82%\t测试正确率:63.83%\t学习率:0.095241%\n"
     ]
    },
    {
     "name": "stderr",
     "output_type": "stream",
     "text": [
      "Training: 100%|██████████| 225/225 [02:41<00:00,  1.40it/s]\n",
      "Validing: 100%|██████████| 29/29 [00:06<00:00,  4.31it/s]\n"
     ]
    },
    {
     "name": "stdout",
     "output_type": "stream",
     "text": [
      "epoch：42\t训练损失:1.360076\t测试损失:1.046665\t训练准确率:64.29%\t测试正确率:65.00%\t学习率:0.095016%\n"
     ]
    },
    {
     "name": "stderr",
     "output_type": "stream",
     "text": [
      "Training: 100%|██████████| 225/225 [02:40<00:00,  1.41it/s]\n",
      "Validing: 100%|██████████| 29/29 [00:06<00:00,  4.24it/s]\n"
     ]
    },
    {
     "name": "stdout",
     "output_type": "stream",
     "text": [
      "epoch：43\t训练损失:1.310628\t测试损失:1.009660\t训练准确率:64.78%\t测试正确率:64.45%\t学习率:0.094786%\n"
     ]
    },
    {
     "name": "stderr",
     "output_type": "stream",
     "text": [
      "Training: 100%|██████████| 225/225 [02:39<00:00,  1.41it/s]\n",
      "Validing: 100%|██████████| 29/29 [00:06<00:00,  4.31it/s]\n"
     ]
    },
    {
     "name": "stdout",
     "output_type": "stream",
     "text": [
      "epoch：44\t训练损失:1.332749\t测试损失:1.006420\t训练准确率:64.27%\t测试正确率:65.62%\t学习率:0.094550%\n",
      "best_model_saved 65.61716355530788\n"
     ]
    },
    {
     "name": "stderr",
     "output_type": "stream",
     "text": [
      "Training: 100%|██████████| 225/225 [02:59<00:00,  1.25it/s]\n",
      "Validing: 100%|██████████| 29/29 [00:07<00:00,  3.65it/s]\n"
     ]
    },
    {
     "name": "stdout",
     "output_type": "stream",
     "text": [
      "epoch：45\t训练损失:1.374110\t测试损失:1.107087\t训练准确率:64.84%\t测试正确率:63.19%\t学习率:0.094310%\n"
     ]
    },
    {
     "name": "stderr",
     "output_type": "stream",
     "text": [
      "Training: 100%|██████████| 225/225 [03:08<00:00,  1.19it/s]\n",
      "Validing: 100%|██████████| 29/29 [00:08<00:00,  3.60it/s]\n"
     ]
    },
    {
     "name": "stdout",
     "output_type": "stream",
     "text": [
      "epoch：46\t训练损失:1.377287\t测试损失:1.096964\t训练准确率:65.45%\t测试正确率:60.99%\t学习率:0.094065%\n"
     ]
    },
    {
     "name": "stderr",
     "output_type": "stream",
     "text": [
      "Training: 100%|██████████| 225/225 [02:57<00:00,  1.27it/s]\n",
      "Validing: 100%|██████████| 29/29 [00:07<00:00,  3.82it/s]\n"
     ]
    },
    {
     "name": "stdout",
     "output_type": "stream",
     "text": [
      "epoch：47\t训练损失:1.304231\t测试损失:1.027245\t训练准确率:65.23%\t测试正确率:64.75%\t学习率:0.093815%\n"
     ]
    },
    {
     "name": "stderr",
     "output_type": "stream",
     "text": [
      "Training: 100%|██████████| 225/225 [02:45<00:00,  1.36it/s]\n",
      "Validing: 100%|██████████| 29/29 [00:06<00:00,  4.27it/s]\n"
     ]
    },
    {
     "name": "stdout",
     "output_type": "stream",
     "text": [
      "epoch：48\t训练损失:1.330542\t测试损失:1.120354\t训练准确率:65.28%\t测试正确率:63.97%\t学习率:0.093561%\n"
     ]
    },
    {
     "name": "stderr",
     "output_type": "stream",
     "text": [
      "Training: 100%|██████████| 225/225 [02:40<00:00,  1.40it/s]\n",
      "Validing: 100%|██████████| 29/29 [00:06<00:00,  4.30it/s]\n"
     ]
    },
    {
     "name": "stdout",
     "output_type": "stream",
     "text": [
      "epoch：49\t训练损失:1.361429\t测试损失:1.114151\t训练准确率:65.74%\t测试正确率:63.47%\t学习率:0.093301%\n"
     ]
    },
    {
     "name": "stderr",
     "output_type": "stream",
     "text": [
      "Training: 100%|██████████| 225/225 [02:39<00:00,  1.41it/s]\n",
      "Validing: 100%|██████████| 29/29 [00:06<00:00,  4.24it/s]\n"
     ]
    },
    {
     "name": "stdout",
     "output_type": "stream",
     "text": [
      "epoch：50\t训练损失:1.349119\t测试损失:1.003901\t训练准确率:65.77%\t测试正确率:65.03%\t学习率:0.093037%\n"
     ]
    },
    {
     "name": "stderr",
     "output_type": "stream",
     "text": [
      "Training: 100%|██████████| 225/225 [02:39<00:00,  1.41it/s]\n",
      "Validing: 100%|██████████| 29/29 [00:06<00:00,  4.31it/s]\n"
     ]
    },
    {
     "name": "stdout",
     "output_type": "stream",
     "text": [
      "epoch：51\t训练损失:1.315946\t测试损失:0.968690\t训练准确率:65.85%\t测试正确率:64.73%\t学习率:0.092768%\n"
     ]
    },
    {
     "name": "stderr",
     "output_type": "stream",
     "text": [
      "Training: 100%|██████████| 225/225 [02:40<00:00,  1.41it/s]\n",
      "Validing: 100%|██████████| 29/29 [00:06<00:00,  4.22it/s]\n"
     ]
    },
    {
     "name": "stdout",
     "output_type": "stream",
     "text": [
      "epoch：52\t训练损失:1.301197\t测试损失:1.076145\t训练准确率:66.26%\t测试正确率:64.50%\t学习率:0.092495%\n"
     ]
    },
    {
     "name": "stderr",
     "output_type": "stream",
     "text": [
      "Training: 100%|██████████| 225/225 [02:40<00:00,  1.40it/s]\n",
      "Validing: 100%|██████████| 29/29 [00:06<00:00,  4.15it/s]\n"
     ]
    },
    {
     "name": "stdout",
     "output_type": "stream",
     "text": [
      "epoch：53\t训练损失:1.365695\t测试损失:1.064741\t训练准确率:66.30%\t测试正确率:64.50%\t学习率:0.092216%\n"
     ]
    },
    {
     "name": "stderr",
     "output_type": "stream",
     "text": [
      "Training: 100%|██████████| 225/225 [02:40<00:00,  1.40it/s]\n",
      "Validing: 100%|██████████| 29/29 [00:06<00:00,  4.23it/s]\n"
     ]
    },
    {
     "name": "stdout",
     "output_type": "stream",
     "text": [
      "epoch：54\t训练损失:1.362949\t测试损失:0.997299\t训练准确率:66.44%\t测试正确率:65.31%\t学习率:0.091934%\n"
     ]
    },
    {
     "name": "stderr",
     "output_type": "stream",
     "text": [
      "Training: 100%|██████████| 225/225 [02:40<00:00,  1.40it/s]\n",
      "Validing: 100%|██████████| 29/29 [00:06<00:00,  4.29it/s]\n"
     ]
    },
    {
     "name": "stdout",
     "output_type": "stream",
     "text": [
      "epoch：55\t训练损失:1.291580\t测试损失:1.034148\t训练准确率:66.43%\t测试正确率:65.20%\t学习率:0.091646%\n"
     ]
    },
    {
     "name": "stderr",
     "output_type": "stream",
     "text": [
      "Training: 100%|██████████| 225/225 [02:40<00:00,  1.40it/s]\n",
      "Validing: 100%|██████████| 29/29 [00:06<00:00,  4.25it/s]\n"
     ]
    },
    {
     "name": "stdout",
     "output_type": "stream",
     "text": [
      "epoch：56\t训练损失:1.322534\t测试损失:0.988615\t训练准确率:66.55%\t测试正确率:64.56%\t学习率:0.091354%\n"
     ]
    },
    {
     "name": "stderr",
     "output_type": "stream",
     "text": [
      "Training: 100%|██████████| 225/225 [02:39<00:00,  1.41it/s]\n",
      "Validing: 100%|██████████| 29/29 [00:06<00:00,  4.25it/s]\n"
     ]
    },
    {
     "name": "stdout",
     "output_type": "stream",
     "text": [
      "epoch：57\t训练损失:1.274794\t测试损失:0.986243\t训练准确率:66.94%\t测试正确率:66.34%\t学习率:0.091057%\n",
      "best_model_saved 66.34159933129006\n"
     ]
    },
    {
     "name": "stderr",
     "output_type": "stream",
     "text": [
      "Training: 100%|██████████| 225/225 [02:40<00:00,  1.40it/s]\n",
      "Validing: 100%|██████████| 29/29 [00:06<00:00,  4.26it/s]\n"
     ]
    },
    {
     "name": "stdout",
     "output_type": "stream",
     "text": [
      "epoch：58\t训练损失:1.376634\t测试损失:1.111414\t训练准确率:67.05%\t测试正确率:65.90%\t学习率:0.090756%\n"
     ]
    },
    {
     "name": "stderr",
     "output_type": "stream",
     "text": [
      "Training: 100%|██████████| 225/225 [02:39<00:00,  1.41it/s]\n",
      "Validing: 100%|██████████| 29/29 [00:06<00:00,  4.23it/s]\n"
     ]
    },
    {
     "name": "stdout",
     "output_type": "stream",
     "text": [
      "epoch：59\t训练损失:1.383568\t测试损失:0.994544\t训练准确率:67.36%\t测试正确率:65.95%\t学习率:0.090451%\n"
     ]
    },
    {
     "name": "stderr",
     "output_type": "stream",
     "text": [
      "Training: 100%|██████████| 225/225 [02:39<00:00,  1.41it/s]\n",
      "Validing: 100%|██████████| 29/29 [00:06<00:00,  4.30it/s]\n"
     ]
    },
    {
     "name": "stdout",
     "output_type": "stream",
     "text": [
      "epoch：60\t训练损失:1.340694\t测试损失:0.969227\t训练准确率:67.31%\t测试正确率:67.21%\t学习率:0.090141%\n",
      "best_model_saved 67.20534967957649\n"
     ]
    },
    {
     "name": "stderr",
     "output_type": "stream",
     "text": [
      "Training: 100%|██████████| 225/225 [02:39<00:00,  1.41it/s]\n",
      "Validing: 100%|██████████| 29/29 [00:06<00:00,  4.32it/s]\n"
     ]
    },
    {
     "name": "stdout",
     "output_type": "stream",
     "text": [
      "epoch：61\t训练损失:1.292914\t测试损失:0.976914\t训练准确率:67.45%\t测试正确率:64.50%\t学习率:0.089826%\n"
     ]
    },
    {
     "name": "stderr",
     "output_type": "stream",
     "text": [
      "Training: 100%|██████████| 225/225 [02:39<00:00,  1.41it/s]\n",
      "Validing: 100%|██████████| 29/29 [00:06<00:00,  4.29it/s]\n"
     ]
    },
    {
     "name": "stdout",
     "output_type": "stream",
     "text": [
      "epoch：62\t训练损失:1.353735\t测试损失:1.023560\t训练准确率:67.32%\t测试正确率:63.53%\t学习率:0.089508%\n"
     ]
    },
    {
     "name": "stderr",
     "output_type": "stream",
     "text": [
      "Training: 100%|██████████| 225/225 [02:40<00:00,  1.40it/s]\n",
      "Validing: 100%|██████████| 29/29 [00:06<00:00,  4.25it/s]\n"
     ]
    },
    {
     "name": "stdout",
     "output_type": "stream",
     "text": [
      "epoch：63\t训练损失:1.292170\t测试损失:1.014054\t训练准确率:67.92%\t测试正确率:64.89%\t学习率:0.089185%\n"
     ]
    },
    {
     "name": "stderr",
     "output_type": "stream",
     "text": [
      "Training: 100%|██████████| 225/225 [02:39<00:00,  1.41it/s]\n",
      "Validing: 100%|██████████| 29/29 [00:06<00:00,  4.26it/s]\n"
     ]
    },
    {
     "name": "stdout",
     "output_type": "stream",
     "text": [
      "epoch：64\t训练损失:1.296934\t测试损失:1.004320\t训练准确率:68.05%\t测试正确率:66.62%\t学习率:0.088857%\n"
     ]
    },
    {
     "name": "stderr",
     "output_type": "stream",
     "text": [
      "Training: 100%|██████████| 225/225 [02:39<00:00,  1.41it/s]\n",
      "Validing: 100%|██████████| 29/29 [00:06<00:00,  4.22it/s]\n"
     ]
    },
    {
     "name": "stdout",
     "output_type": "stream",
     "text": [
      "epoch：65\t训练损失:1.259900\t测试损失:1.017695\t训练准确率:67.94%\t测试正确率:66.95%\t学习率:0.088526%\n"
     ]
    },
    {
     "name": "stderr",
     "output_type": "stream",
     "text": [
      "Training: 100%|██████████| 225/225 [02:42<00:00,  1.38it/s]\n",
      "Validing: 100%|██████████| 29/29 [00:06<00:00,  4.26it/s]\n"
     ]
    },
    {
     "name": "stdout",
     "output_type": "stream",
     "text": [
      "epoch：66\t训练损失:1.372558\t测试损失:0.965330\t训练准确率:68.09%\t测试正确率:66.45%\t学习率:0.088190%\n"
     ]
    },
    {
     "name": "stderr",
     "output_type": "stream",
     "text": [
      "Training: 100%|██████████| 225/225 [02:40<00:00,  1.41it/s]\n",
      "Validing: 100%|██████████| 29/29 [00:06<00:00,  4.18it/s]\n"
     ]
    },
    {
     "name": "stdout",
     "output_type": "stream",
     "text": [
      "epoch：67\t训练损失:1.317986\t测试损失:0.982287\t训练准确率:69.08%\t测试正确率:66.12%\t学习率:0.087850%\n"
     ]
    },
    {
     "name": "stderr",
     "output_type": "stream",
     "text": [
      "Training: 100%|██████████| 225/225 [02:39<00:00,  1.41it/s]\n",
      "Validing: 100%|██████████| 29/29 [00:06<00:00,  4.28it/s]\n"
     ]
    },
    {
     "name": "stdout",
     "output_type": "stream",
     "text": [
      "epoch：68\t训练损失:1.319071\t测试损失:1.041412\t训练准确率:68.24%\t测试正确率:64.06%\t学习率:0.087506%\n"
     ]
    },
    {
     "name": "stderr",
     "output_type": "stream",
     "text": [
      "Training: 100%|██████████| 225/225 [02:39<00:00,  1.41it/s]\n",
      "Validing: 100%|██████████| 29/29 [00:06<00:00,  4.22it/s]\n"
     ]
    },
    {
     "name": "stdout",
     "output_type": "stream",
     "text": [
      "epoch：69\t训练损失:1.342428\t测试损失:0.984176\t训练准确率:68.67%\t测试正确率:67.15%\t学习率:0.087157%\n"
     ]
    },
    {
     "name": "stderr",
     "output_type": "stream",
     "text": [
      "Training: 100%|██████████| 225/225 [02:39<00:00,  1.41it/s]\n",
      "Validing: 100%|██████████| 29/29 [00:06<00:00,  4.27it/s]\n"
     ]
    },
    {
     "name": "stdout",
     "output_type": "stream",
     "text": [
      "epoch：70\t训练损失:1.315643\t测试损失:1.007951\t训练准确率:68.43%\t测试正确率:65.67%\t学习率:0.086805%\n"
     ]
    },
    {
     "name": "stderr",
     "output_type": "stream",
     "text": [
      "Training: 100%|██████████| 225/225 [02:40<00:00,  1.40it/s]\n",
      "Validing: 100%|██████████| 29/29 [00:06<00:00,  4.26it/s]\n"
     ]
    },
    {
     "name": "stdout",
     "output_type": "stream",
     "text": [
      "epoch：71\t训练损失:1.296494\t测试损失:1.026824\t训练准确率:69.01%\t测试正确率:63.86%\t学习率:0.086448%\n"
     ]
    },
    {
     "name": "stderr",
     "output_type": "stream",
     "text": [
      "Training: 100%|██████████| 225/225 [02:40<00:00,  1.41it/s]\n",
      "Validing: 100%|██████████| 29/29 [00:06<00:00,  4.29it/s]\n"
     ]
    },
    {
     "name": "stdout",
     "output_type": "stream",
     "text": [
      "epoch：72\t训练损失:1.307904\t测试损失:1.076829\t训练准确率:69.08%\t测试正确率:66.06%\t学习率:0.086088%\n"
     ]
    },
    {
     "name": "stderr",
     "output_type": "stream",
     "text": [
      "Training: 100%|██████████| 225/225 [02:40<00:00,  1.40it/s]\n",
      "Validing: 100%|██████████| 29/29 [00:06<00:00,  4.29it/s]\n"
     ]
    },
    {
     "name": "stdout",
     "output_type": "stream",
     "text": [
      "epoch：73\t训练损失:1.244541\t测试损失:1.023300\t训练准确率:69.29%\t测试正确率:63.92%\t学习率:0.085724%\n"
     ]
    },
    {
     "name": "stderr",
     "output_type": "stream",
     "text": [
      "Training: 100%|██████████| 225/225 [02:39<00:00,  1.41it/s]\n",
      "Validing: 100%|██████████| 29/29 [00:06<00:00,  4.29it/s]\n"
     ]
    },
    {
     "name": "stdout",
     "output_type": "stream",
     "text": [
      "epoch：74\t训练损失:1.309123\t测试损失:1.028556\t训练准确率:69.47%\t测试正确率:66.15%\t学习率:0.085355%\n"
     ]
    },
    {
     "name": "stderr",
     "output_type": "stream",
     "text": [
      "Training: 100%|██████████| 225/225 [02:40<00:00,  1.40it/s]\n",
      "Validing: 100%|██████████| 29/29 [00:06<00:00,  4.27it/s]\n"
     ]
    },
    {
     "name": "stdout",
     "output_type": "stream",
     "text": [
      "epoch：75\t训练损失:1.302741\t测试损失:1.064527\t训练准确率:69.17%\t测试正确率:65.78%\t学习率:0.084983%\n"
     ]
    },
    {
     "name": "stderr",
     "output_type": "stream",
     "text": [
      "Training: 100%|██████████| 225/225 [02:40<00:00,  1.41it/s]\n",
      "Validing: 100%|██████████| 29/29 [00:06<00:00,  4.30it/s]\n"
     ]
    },
    {
     "name": "stdout",
     "output_type": "stream",
     "text": [
      "epoch：76\t训练损失:1.293639\t测试损失:1.040277\t训练准确率:69.63%\t测试正确率:65.59%\t学习率:0.084607%\n"
     ]
    },
    {
     "name": "stderr",
     "output_type": "stream",
     "text": [
      "Training: 100%|██████████| 225/225 [02:40<00:00,  1.40it/s]\n",
      "Validing: 100%|██████████| 29/29 [00:06<00:00,  4.27it/s]\n"
     ]
    },
    {
     "name": "stdout",
     "output_type": "stream",
     "text": [
      "epoch：77\t训练损失:1.292850\t测试损失:0.992577\t训练准确率:69.81%\t测试正确率:66.04%\t学习率:0.084227%\n"
     ]
    },
    {
     "name": "stderr",
     "output_type": "stream",
     "text": [
      "Training: 100%|██████████| 225/225 [02:39<00:00,  1.41it/s]\n",
      "Validing: 100%|██████████| 29/29 [00:06<00:00,  4.28it/s]\n"
     ]
    },
    {
     "name": "stdout",
     "output_type": "stream",
     "text": [
      "epoch：78\t训练损失:1.328430\t测试损失:1.012223\t训练准确率:70.28%\t测试正确率:65.00%\t学习率:0.083844%\n"
     ]
    },
    {
     "name": "stderr",
     "output_type": "stream",
     "text": [
      "Training: 100%|██████████| 225/225 [02:41<00:00,  1.39it/s]\n",
      "Validing: 100%|██████████| 29/29 [00:06<00:00,  4.26it/s]\n"
     ]
    },
    {
     "name": "stdout",
     "output_type": "stream",
     "text": [
      "epoch：79\t训练损失:1.330862\t测试损失:1.030782\t训练准确率:70.26%\t测试正确率:64.20%\t学习率:0.083457%\n"
     ]
    },
    {
     "name": "stderr",
     "output_type": "stream",
     "text": [
      "Training: 100%|██████████| 225/225 [02:39<00:00,  1.41it/s]\n",
      "Validing: 100%|██████████| 29/29 [00:06<00:00,  4.28it/s]\n"
     ]
    },
    {
     "name": "stdout",
     "output_type": "stream",
     "text": [
      "epoch：80\t训练损失:1.298582\t测试损失:1.038824\t训练准确率:70.28%\t测试正确率:66.04%\t学习率:0.083066%\n"
     ]
    },
    {
     "name": "stderr",
     "output_type": "stream",
     "text": [
      "Training: 100%|██████████| 225/225 [02:39<00:00,  1.41it/s]\n",
      "Validing: 100%|██████████| 29/29 [00:06<00:00,  4.24it/s]\n"
     ]
    },
    {
     "name": "stdout",
     "output_type": "stream",
     "text": [
      "epoch：81\t训练损失:1.338559\t测试损失:0.966443\t训练准确率:70.50%\t测试正确率:66.93%\t学习率:0.082671%\n"
     ]
    },
    {
     "name": "stderr",
     "output_type": "stream",
     "text": [
      "Training: 100%|██████████| 225/225 [02:39<00:00,  1.41it/s]\n",
      "Validing: 100%|██████████| 29/29 [00:06<00:00,  4.27it/s]\n"
     ]
    },
    {
     "name": "stdout",
     "output_type": "stream",
     "text": [
      "epoch：82\t训练损失:1.261680\t测试损失:0.954977\t训练准确率:70.61%\t测试正确率:66.51%\t学习率:0.082273%\n"
     ]
    },
    {
     "name": "stderr",
     "output_type": "stream",
     "text": [
      "Training: 100%|██████████| 225/225 [02:40<00:00,  1.40it/s]\n",
      "Validing: 100%|██████████| 29/29 [00:06<00:00,  4.27it/s]\n"
     ]
    },
    {
     "name": "stdout",
     "output_type": "stream",
     "text": [
      "epoch：83\t训练损失:1.286091\t测试损失:0.946385\t训练准确率:70.57%\t测试正确率:66.34%\t学习率:0.081871%\n"
     ]
    },
    {
     "name": "stderr",
     "output_type": "stream",
     "text": [
      "Training: 100%|██████████| 225/225 [02:40<00:00,  1.40it/s]\n",
      "Validing: 100%|██████████| 29/29 [00:06<00:00,  4.20it/s]\n"
     ]
    },
    {
     "name": "stdout",
     "output_type": "stream",
     "text": [
      "epoch：84\t训练损失:1.280520\t测试损失:1.029605\t训练准确率:70.89%\t测试正确率:65.12%\t学习率:0.081466%\n"
     ]
    },
    {
     "name": "stderr",
     "output_type": "stream",
     "text": [
      "Training: 100%|██████████| 225/225 [02:40<00:00,  1.40it/s]\n",
      "Validing: 100%|██████████| 29/29 [00:06<00:00,  4.25it/s]\n"
     ]
    },
    {
     "name": "stdout",
     "output_type": "stream",
     "text": [
      "epoch：85\t训练损失:1.261086\t测试损失:1.021562\t训练准确率:71.48%\t测试正确率:66.56%\t学习率:0.081057%\n"
     ]
    },
    {
     "name": "stderr",
     "output_type": "stream",
     "text": [
      "Training: 100%|██████████| 225/225 [02:39<00:00,  1.41it/s]\n",
      "Validing: 100%|██████████| 29/29 [00:06<00:00,  4.19it/s]\n"
     ]
    },
    {
     "name": "stdout",
     "output_type": "stream",
     "text": [
      "epoch：86\t训练损失:1.278988\t测试损失:1.073046\t训练准确率:71.08%\t测试正确率:65.92%\t学习率:0.080645%\n"
     ]
    },
    {
     "name": "stderr",
     "output_type": "stream",
     "text": [
      "Training: 100%|██████████| 225/225 [02:42<00:00,  1.39it/s]\n",
      "Validing: 100%|██████████| 29/29 [00:06<00:00,  4.27it/s]\n"
     ]
    },
    {
     "name": "stdout",
     "output_type": "stream",
     "text": [
      "epoch：87\t训练损失:1.301948\t测试损失:0.973431\t训练准确率:70.96%\t测试正确率:66.68%\t学习率:0.080230%\n"
     ]
    },
    {
     "name": "stderr",
     "output_type": "stream",
     "text": [
      "Training: 100%|██████████| 225/225 [02:44<00:00,  1.37it/s]\n",
      "Validing: 100%|██████████| 29/29 [00:06<00:00,  4.28it/s]\n"
     ]
    },
    {
     "name": "stdout",
     "output_type": "stream",
     "text": [
      "epoch：88\t训练损失:1.255550\t测试损失:1.062045\t训练准确率:71.17%\t测试正确率:65.62%\t学习率:0.079811%\n"
     ]
    },
    {
     "name": "stderr",
     "output_type": "stream",
     "text": [
      "Training: 100%|██████████| 225/225 [02:39<00:00,  1.41it/s]\n",
      "Validing: 100%|██████████| 29/29 [00:06<00:00,  4.22it/s]\n"
     ]
    },
    {
     "name": "stdout",
     "output_type": "stream",
     "text": [
      "epoch：89\t训练损失:1.282731\t测试损失:0.980671\t训练准确率:71.33%\t测试正确率:67.79%\t学习率:0.079389%\n",
      "best_model_saved 67.79047088325439\n"
     ]
    },
    {
     "name": "stderr",
     "output_type": "stream",
     "text": [
      "Training: 100%|██████████| 225/225 [02:40<00:00,  1.41it/s]\n",
      "Validing: 100%|██████████| 29/29 [00:06<00:00,  4.24it/s]\n"
     ]
    },
    {
     "name": "stdout",
     "output_type": "stream",
     "text": [
      "epoch：90\t训练损失:1.207371\t测试损失:0.956912\t训练准确率:71.68%\t测试正确率:67.60%\t学习率:0.078964%\n"
     ]
    },
    {
     "name": "stderr",
     "output_type": "stream",
     "text": [
      "Training: 100%|██████████| 225/225 [02:39<00:00,  1.41it/s]\n",
      "Validing: 100%|██████████| 29/29 [00:06<00:00,  4.22it/s]\n"
     ]
    },
    {
     "name": "stdout",
     "output_type": "stream",
     "text": [
      "epoch：91\t训练损失:1.224563\t测试损失:1.024290\t训练准确率:71.70%\t测试正确率:65.39%\t学习率:0.078536%\n"
     ]
    },
    {
     "name": "stderr",
     "output_type": "stream",
     "text": [
      "Training: 100%|██████████| 225/225 [02:40<00:00,  1.41it/s]\n",
      "Validing: 100%|██████████| 29/29 [00:06<00:00,  4.31it/s]\n"
     ]
    },
    {
     "name": "stdout",
     "output_type": "stream",
     "text": [
      "epoch：92\t训练损失:1.291367\t测试损失:0.992646\t训练准确率:71.51%\t测试正确率:66.51%\t学习率:0.078104%\n"
     ]
    },
    {
     "name": "stderr",
     "output_type": "stream",
     "text": [
      "Training: 100%|██████████| 225/225 [02:39<00:00,  1.41it/s]\n",
      "Validing: 100%|██████████| 29/29 [00:06<00:00,  4.26it/s]\n"
     ]
    },
    {
     "name": "stdout",
     "output_type": "stream",
     "text": [
      "epoch：93\t训练损失:1.247313\t测试损失:0.957616\t训练准确率:72.51%\t测试正确率:67.09%\t学习率:0.077670%\n"
     ]
    },
    {
     "name": "stderr",
     "output_type": "stream",
     "text": [
      "Training: 100%|██████████| 225/225 [02:40<00:00,  1.40it/s]\n",
      "Validing: 100%|██████████| 29/29 [00:06<00:00,  4.29it/s]\n"
     ]
    },
    {
     "name": "stdout",
     "output_type": "stream",
     "text": [
      "epoch：94\t训练损失:1.201890\t测试损失:0.945019\t训练准确率:72.18%\t测试正确率:66.98%\t学习率:0.077232%\n"
     ]
    },
    {
     "name": "stderr",
     "output_type": "stream",
     "text": [
      "Training: 100%|██████████| 225/225 [02:39<00:00,  1.41it/s]\n",
      "Validing: 100%|██████████| 29/29 [00:06<00:00,  4.27it/s]\n"
     ]
    },
    {
     "name": "stdout",
     "output_type": "stream",
     "text": [
      "epoch：95\t训练损失:1.262963\t测试损失:1.024425\t训练准确率:72.25%\t测试正确率:66.98%\t学习率:0.076791%\n"
     ]
    },
    {
     "name": "stderr",
     "output_type": "stream",
     "text": [
      "Training: 100%|██████████| 225/225 [02:39<00:00,  1.41it/s]\n",
      "Validing: 100%|██████████| 29/29 [00:06<00:00,  4.24it/s]\n"
     ]
    },
    {
     "name": "stdout",
     "output_type": "stream",
     "text": [
      "epoch：96\t训练损失:1.262071\t测试损失:0.944721\t训练准确率:72.32%\t测试正确率:66.79%\t学习率:0.076348%\n"
     ]
    },
    {
     "name": "stderr",
     "output_type": "stream",
     "text": [
      "Training: 100%|██████████| 225/225 [02:40<00:00,  1.40it/s]\n",
      "Validing: 100%|██████████| 29/29 [00:06<00:00,  4.17it/s]\n"
     ]
    },
    {
     "name": "stdout",
     "output_type": "stream",
     "text": [
      "epoch：97\t训练损失:1.255715\t测试损失:1.036798\t训练准确率:72.80%\t测试正确率:66.01%\t学习率:0.075901%\n"
     ]
    },
    {
     "name": "stderr",
     "output_type": "stream",
     "text": [
      "Training: 100%|██████████| 225/225 [02:41<00:00,  1.40it/s]\n",
      "Validing: 100%|██████████| 29/29 [00:06<00:00,  4.21it/s]\n"
     ]
    },
    {
     "name": "stdout",
     "output_type": "stream",
     "text": [
      "epoch：98\t训练损失:1.226531\t测试损失:1.017003\t训练准确率:72.74%\t测试正确率:63.00%\t学习率:0.075452%\n"
     ]
    },
    {
     "name": "stderr",
     "output_type": "stream",
     "text": [
      "Training: 100%|██████████| 225/225 [02:40<00:00,  1.40it/s]\n",
      "Validing: 100%|██████████| 29/29 [00:06<00:00,  4.21it/s]\n"
     ]
    },
    {
     "name": "stdout",
     "output_type": "stream",
     "text": [
      "epoch：99\t训练损失:1.228371\t测试损失:1.062749\t训练准确率:72.60%\t测试正确率:67.04%\t学习率:0.075000%\n"
     ]
    },
    {
     "name": "stderr",
     "output_type": "stream",
     "text": [
      "Training: 100%|██████████| 225/225 [02:42<00:00,  1.38it/s]\n",
      "Validing: 100%|██████████| 29/29 [00:07<00:00,  4.13it/s]\n"
     ]
    },
    {
     "name": "stdout",
     "output_type": "stream",
     "text": [
      "epoch：100\t训练损失:1.228214\t测试损失:1.027650\t训练准确率:73.25%\t测试正确率:65.67%\t学习率:0.074545%\n"
     ]
    },
    {
     "name": "stderr",
     "output_type": "stream",
     "text": [
      "Training: 100%|██████████| 225/225 [02:45<00:00,  1.36it/s]\n",
      "Validing: 100%|██████████| 29/29 [00:07<00:00,  4.10it/s]\n"
     ]
    },
    {
     "name": "stdout",
     "output_type": "stream",
     "text": [
      "epoch：101\t训练损失:1.268296\t测试损失:1.026018\t训练准确率:72.98%\t测试正确率:67.18%\t学习率:0.074088%\n"
     ]
    },
    {
     "name": "stderr",
     "output_type": "stream",
     "text": [
      "Training: 100%|██████████| 225/225 [03:05<00:00,  1.22it/s]\n",
      "Validing: 100%|██████████| 29/29 [00:07<00:00,  3.69it/s]\n"
     ]
    },
    {
     "name": "stdout",
     "output_type": "stream",
     "text": [
      "epoch：102\t训练损失:1.208732\t测试损失:0.989806\t训练准确率:73.68%\t测试正确率:67.32%\t学习率:0.073628%\n"
     ]
    },
    {
     "name": "stderr",
     "output_type": "stream",
     "text": [
      "Training: 100%|██████████| 225/225 [03:04<00:00,  1.22it/s]\n",
      "Validing: 100%|██████████| 29/29 [00:07<00:00,  3.95it/s]\n"
     ]
    },
    {
     "name": "stdout",
     "output_type": "stream",
     "text": [
      "epoch：103\t训练损失:1.169489\t测试损失:0.970675\t训练准确率:73.93%\t测试正确率:66.34%\t学习率:0.073165%\n"
     ]
    },
    {
     "name": "stderr",
     "output_type": "stream",
     "text": [
      "Training: 100%|██████████| 225/225 [02:54<00:00,  1.29it/s]\n",
      "Validing: 100%|██████████| 29/29 [00:07<00:00,  4.05it/s]\n"
     ]
    },
    {
     "name": "stdout",
     "output_type": "stream",
     "text": [
      "epoch：104\t训练损失:1.265348\t测试损失:1.005012\t训练准确率:73.56%\t测试正确率:66.59%\t学习率:0.072700%\n"
     ]
    },
    {
     "name": "stderr",
     "output_type": "stream",
     "text": [
      "Training: 100%|██████████| 225/225 [02:51<00:00,  1.32it/s]\n",
      "Validing: 100%|██████████| 29/29 [00:07<00:00,  4.08it/s]\n"
     ]
    },
    {
     "name": "stdout",
     "output_type": "stream",
     "text": [
      "epoch：105\t训练损失:1.306555\t测试损失:1.048852\t训练准确率:73.60%\t测试正确率:68.24%\t学习率:0.072232%\n",
      "best_model_saved 68.23627751462803\n"
     ]
    },
    {
     "name": "stderr",
     "output_type": "stream",
     "text": [
      "Training: 100%|██████████| 225/225 [02:51<00:00,  1.31it/s]\n",
      "Validing: 100%|██████████| 29/29 [00:07<00:00,  4.05it/s]\n"
     ]
    },
    {
     "name": "stdout",
     "output_type": "stream",
     "text": [
      "epoch：106\t训练损失:1.287653\t测试损失:0.981278\t训练准确率:73.77%\t测试正确率:68.04%\t学习率:0.071762%\n"
     ]
    },
    {
     "name": "stderr",
     "output_type": "stream",
     "text": [
      "Training: 100%|██████████| 225/225 [02:50<00:00,  1.32it/s]\n",
      "Validing: 100%|██████████| 29/29 [00:07<00:00,  4.02it/s]\n"
     ]
    },
    {
     "name": "stdout",
     "output_type": "stream",
     "text": [
      "epoch：107\t训练损失:1.259224\t测试损失:1.039577\t训练准确率:74.45%\t测试正确率:65.00%\t学习率:0.071289%\n"
     ]
    },
    {
     "name": "stderr",
     "output_type": "stream",
     "text": [
      "Training: 100%|██████████| 225/225 [02:58<00:00,  1.26it/s]\n",
      "Validing: 100%|██████████| 29/29 [00:07<00:00,  3.81it/s]\n"
     ]
    },
    {
     "name": "stdout",
     "output_type": "stream",
     "text": [
      "epoch：108\t训练损失:1.180493\t测试损失:0.961750\t训练准确率:74.32%\t测试正确率:66.84%\t学习率:0.070814%\n"
     ]
    },
    {
     "name": "stderr",
     "output_type": "stream",
     "text": [
      "Training: 100%|██████████| 225/225 [03:05<00:00,  1.21it/s]\n",
      "Validing: 100%|██████████| 29/29 [00:07<00:00,  3.94it/s]\n"
     ]
    },
    {
     "name": "stdout",
     "output_type": "stream",
     "text": [
      "epoch：109\t训练损失:1.256934\t测试损失:0.949115\t训练准确率:74.10%\t测试正确率:67.51%\t学习率:0.070337%\n"
     ]
    },
    {
     "name": "stderr",
     "output_type": "stream",
     "text": [
      "Training: 100%|██████████| 225/225 [03:07<00:00,  1.20it/s]\n",
      "Validing: 100%|██████████| 29/29 [00:07<00:00,  3.89it/s]\n"
     ]
    },
    {
     "name": "stdout",
     "output_type": "stream",
     "text": [
      "epoch：110\t训练损失:1.207149\t测试损失:0.984159\t训练准确率:74.59%\t测试正确率:68.71%\t学习率:0.069857%\n",
      "best_model_saved 68.70994706046253\n"
     ]
    },
    {
     "name": "stderr",
     "output_type": "stream",
     "text": [
      "Training: 100%|██████████| 225/225 [03:07<00:00,  1.20it/s]\n",
      "Validing: 100%|██████████| 29/29 [00:08<00:00,  3.58it/s]\n"
     ]
    },
    {
     "name": "stdout",
     "output_type": "stream",
     "text": [
      "epoch：111\t训练损失:1.178188\t测试损失:0.986988\t训练准确率:74.95%\t测试正确率:67.37%\t学习率:0.069376%\n"
     ]
    },
    {
     "name": "stderr",
     "output_type": "stream",
     "text": [
      "Training: 100%|██████████| 225/225 [03:01<00:00,  1.24it/s]\n",
      "Validing: 100%|██████████| 29/29 [00:06<00:00,  4.26it/s]\n"
     ]
    },
    {
     "name": "stdout",
     "output_type": "stream",
     "text": [
      "epoch：112\t训练损失:1.272747\t测试损失:0.960828\t训练准确率:75.08%\t测试正确率:68.88%\t学习率:0.068892%\n",
      "best_model_saved 68.87712454722764\n"
     ]
    },
    {
     "name": "stderr",
     "output_type": "stream",
     "text": [
      "Training: 100%|██████████| 225/225 [02:40<00:00,  1.40it/s]\n",
      "Validing: 100%|██████████| 29/29 [00:06<00:00,  4.23it/s]\n"
     ]
    },
    {
     "name": "stdout",
     "output_type": "stream",
     "text": [
      "epoch：113\t训练损失:1.249440\t测试损失:0.986121\t训练准确率:75.10%\t测试正确率:67.68%\t学习率:0.068406%\n"
     ]
    },
    {
     "name": "stderr",
     "output_type": "stream",
     "text": [
      "Training: 100%|██████████| 225/225 [02:40<00:00,  1.40it/s]\n",
      "Validing: 100%|██████████| 29/29 [00:06<00:00,  4.23it/s]\n"
     ]
    },
    {
     "name": "stdout",
     "output_type": "stream",
     "text": [
      "epoch：114\t训练损失:1.217422\t测试损失:1.032796\t训练准确率:74.77%\t测试正确率:67.32%\t学习率:0.067918%\n"
     ]
    },
    {
     "name": "stderr",
     "output_type": "stream",
     "text": [
      "Training: 100%|██████████| 225/225 [02:40<00:00,  1.40it/s]\n",
      "Validing: 100%|██████████| 29/29 [00:06<00:00,  4.15it/s]\n"
     ]
    },
    {
     "name": "stdout",
     "output_type": "stream",
     "text": [
      "epoch：115\t训练损失:1.200163\t测试损失:0.938734\t训练准确率:74.94%\t测试正确率:68.15%\t学习率:0.067429%\n"
     ]
    },
    {
     "name": "stderr",
     "output_type": "stream",
     "text": [
      "Training: 100%|██████████| 225/225 [02:40<00:00,  1.40it/s]\n",
      "Validing: 100%|██████████| 29/29 [00:06<00:00,  4.25it/s]\n"
     ]
    },
    {
     "name": "stdout",
     "output_type": "stream",
     "text": [
      "epoch：116\t训练损失:1.181053\t测试损失:0.987263\t训练准确率:75.61%\t测试正确率:66.20%\t学习率:0.066937%\n"
     ]
    },
    {
     "name": "stderr",
     "output_type": "stream",
     "text": [
      "Training: 100%|██████████| 225/225 [02:40<00:00,  1.40it/s]\n",
      "Validing: 100%|██████████| 29/29 [00:06<00:00,  4.21it/s]\n"
     ]
    },
    {
     "name": "stdout",
     "output_type": "stream",
     "text": [
      "epoch：117\t训练损失:1.245897\t测试损失:0.988782\t训练准确率:76.07%\t测试正确率:66.51%\t学习率:0.066443%\n"
     ]
    },
    {
     "name": "stderr",
     "output_type": "stream",
     "text": [
      "Training: 100%|██████████| 225/225 [02:40<00:00,  1.40it/s]\n",
      "Validing: 100%|██████████| 29/29 [00:06<00:00,  4.23it/s]\n"
     ]
    },
    {
     "name": "stdout",
     "output_type": "stream",
     "text": [
      "epoch：118\t训练损失:1.221950\t测试损失:0.948180\t训练准确率:75.57%\t测试正确率:67.90%\t学习率:0.065948%\n"
     ]
    },
    {
     "name": "stderr",
     "output_type": "stream",
     "text": [
      "Training: 100%|██████████| 225/225 [02:40<00:00,  1.40it/s]\n",
      "Validing: 100%|██████████| 29/29 [00:06<00:00,  4.23it/s]\n"
     ]
    },
    {
     "name": "stdout",
     "output_type": "stream",
     "text": [
      "epoch：119\t训练损失:1.187124\t测试损失:0.970287\t训练准确率:76.16%\t测试正确率:67.96%\t学习率:0.065451%\n"
     ]
    },
    {
     "name": "stderr",
     "output_type": "stream",
     "text": [
      "Training: 100%|██████████| 225/225 [02:39<00:00,  1.41it/s]\n",
      "Validing: 100%|██████████| 29/29 [00:06<00:00,  4.24it/s]\n"
     ]
    },
    {
     "name": "stdout",
     "output_type": "stream",
     "text": [
      "epoch：120\t训练损失:1.191899\t测试损失:0.986227\t训练准确率:76.07%\t测试正确率:67.71%\t学习率:0.064952%\n"
     ]
    },
    {
     "name": "stderr",
     "output_type": "stream",
     "text": [
      "Training: 100%|██████████| 225/225 [02:40<00:00,  1.40it/s]\n",
      "Validing: 100%|██████████| 29/29 [00:06<00:00,  4.23it/s]\n"
     ]
    },
    {
     "name": "stdout",
     "output_type": "stream",
     "text": [
      "epoch：121\t训练损失:1.205484\t测试损失:0.941446\t训练准确率:76.39%\t测试正确率:67.79%\t学习率:0.064452%\n"
     ]
    },
    {
     "name": "stderr",
     "output_type": "stream",
     "text": [
      "Training: 100%|██████████| 225/225 [02:47<00:00,  1.34it/s]\n",
      "Validing: 100%|██████████| 29/29 [00:08<00:00,  3.34it/s]\n"
     ]
    },
    {
     "name": "stdout",
     "output_type": "stream",
     "text": [
      "epoch：122\t训练损失:1.245704\t测试损失:0.975823\t训练准确率:76.00%\t测试正确率:67.85%\t学习率:0.063950%\n"
     ]
    },
    {
     "name": "stderr",
     "output_type": "stream",
     "text": [
      "Training: 100%|██████████| 225/225 [03:09<00:00,  1.19it/s]\n",
      "Validing: 100%|██████████| 29/29 [00:07<00:00,  3.89it/s]\n"
     ]
    },
    {
     "name": "stdout",
     "output_type": "stream",
     "text": [
      "epoch：123\t训练损失:1.184306\t测试损失:1.026809\t训练准确率:76.75%\t测试正确率:63.30%\t学习率:0.063446%\n"
     ]
    },
    {
     "name": "stderr",
     "output_type": "stream",
     "text": [
      "Training: 100%|██████████| 225/225 [03:40<00:00,  1.02it/s]\n",
      "Validing: 100%|██████████| 29/29 [00:11<00:00,  2.45it/s]\n"
     ]
    },
    {
     "name": "stdout",
     "output_type": "stream",
     "text": [
      "epoch：124\t训练损失:1.240366\t测试损失:0.957168\t训练准确率:76.44%\t测试正确率:69.27%\t学习率:0.062941%\n",
      "best_model_saved 69.26720534967957\n"
     ]
    },
    {
     "name": "stderr",
     "output_type": "stream",
     "text": [
      "Training: 100%|██████████| 225/225 [04:09<00:00,  1.11s/it]\n",
      "Validing: 100%|██████████| 29/29 [00:10<00:00,  2.83it/s]\n"
     ]
    },
    {
     "name": "stdout",
     "output_type": "stream",
     "text": [
      "epoch：125\t训练损失:1.168639\t测试损失:0.947310\t训练准确率:76.49%\t测试正确率:68.24%\t学习率:0.062434%\n"
     ]
    },
    {
     "name": "stderr",
     "output_type": "stream",
     "text": [
      "Training: 100%|██████████| 225/225 [03:57<00:00,  1.05s/it]\n",
      "Validing: 100%|██████████| 29/29 [00:10<00:00,  2.72it/s]\n"
     ]
    },
    {
     "name": "stdout",
     "output_type": "stream",
     "text": [
      "epoch：126\t训练损失:1.206827\t测试损失:0.956089\t训练准确率:77.29%\t测试正确率:68.24%\t学习率:0.061927%\n"
     ]
    },
    {
     "name": "stderr",
     "output_type": "stream",
     "text": [
      "Training: 100%|██████████| 225/225 [03:58<00:00,  1.06s/it]\n",
      "Validing: 100%|██████████| 29/29 [00:09<00:00,  2.91it/s]\n"
     ]
    },
    {
     "name": "stdout",
     "output_type": "stream",
     "text": [
      "epoch：127\t训练损失:1.185008\t测试损失:0.946779\t训练准确率:77.15%\t测试正确率:69.21%\t学习率:0.061418%\n"
     ]
    },
    {
     "name": "stderr",
     "output_type": "stream",
     "text": [
      "Training: 100%|██████████| 225/225 [04:03<00:00,  1.08s/it]\n",
      "Validing: 100%|██████████| 29/29 [00:09<00:00,  2.97it/s]\n"
     ]
    },
    {
     "name": "stdout",
     "output_type": "stream",
     "text": [
      "epoch：128\t训练损失:1.184148\t测试损失:0.989841\t训练准确率:77.07%\t测试正确率:68.10%\t学习率:0.060907%\n"
     ]
    },
    {
     "name": "stderr",
     "output_type": "stream",
     "text": [
      "Training: 100%|██████████| 225/225 [03:50<00:00,  1.02s/it]\n",
      "Validing: 100%|██████████| 29/29 [00:07<00:00,  3.71it/s]\n"
     ]
    },
    {
     "name": "stdout",
     "output_type": "stream",
     "text": [
      "epoch：129\t训练损失:1.148598\t测试损失:0.920700\t训练准确率:77.33%\t测试正确率:68.65%\t学习率:0.060396%\n"
     ]
    },
    {
     "name": "stderr",
     "output_type": "stream",
     "text": [
      "Training: 100%|██████████| 225/225 [03:08<00:00,  1.19it/s]\n",
      "Validing: 100%|██████████| 29/29 [00:07<00:00,  3.73it/s]\n"
     ]
    },
    {
     "name": "stdout",
     "output_type": "stream",
     "text": [
      "epoch：130\t训练损失:1.166558\t测试损失:0.944258\t训练准确率:77.97%\t测试正确率:68.96%\t学习率:0.059883%\n"
     ]
    },
    {
     "name": "stderr",
     "output_type": "stream",
     "text": [
      "Training: 100%|██████████| 225/225 [03:07<00:00,  1.20it/s]\n",
      "Validing: 100%|██████████| 29/29 [00:07<00:00,  3.75it/s]\n"
     ]
    },
    {
     "name": "stdout",
     "output_type": "stream",
     "text": [
      "epoch：131\t训练损失:1.205691\t测试损失:0.987259\t训练准确率:77.63%\t测试正确率:66.37%\t学习率:0.059369%\n"
     ]
    },
    {
     "name": "stderr",
     "output_type": "stream",
     "text": [
      "Training: 100%|██████████| 225/225 [03:16<00:00,  1.14it/s]\n",
      "Validing: 100%|██████████| 29/29 [00:10<00:00,  2.88it/s]\n"
     ]
    },
    {
     "name": "stdout",
     "output_type": "stream",
     "text": [
      "epoch：132\t训练损失:1.151657\t测试损失:0.953693\t训练准确率:77.71%\t测试正确率:67.18%\t学习率:0.058854%\n"
     ]
    },
    {
     "name": "stderr",
     "output_type": "stream",
     "text": [
      "Training: 100%|██████████| 225/225 [06:23<00:00,  1.70s/it]\n",
      "Validing: 100%|██████████| 29/29 [00:23<00:00,  1.25it/s]\n"
     ]
    },
    {
     "name": "stdout",
     "output_type": "stream",
     "text": [
      "epoch：133\t训练损失:1.213294\t测试损失:0.964662\t训练准确率:78.14%\t测试正确率:68.46%\t学习率:0.058338%\n"
     ]
    },
    {
     "name": "stderr",
     "output_type": "stream",
     "text": [
      "Training: 100%|██████████| 225/225 [02:52<00:00,  1.30it/s]\n",
      "Validing: 100%|██████████| 29/29 [00:07<00:00,  4.06it/s]\n"
     ]
    },
    {
     "name": "stdout",
     "output_type": "stream",
     "text": [
      "epoch：134\t训练损失:1.187885\t测试损失:0.966384\t训练准确率:78.08%\t测试正确率:69.32%\t学习率:0.057822%\n",
      "best_model_saved 69.32293117860128\n"
     ]
    },
    {
     "name": "stderr",
     "output_type": "stream",
     "text": [
      "Training: 100%|██████████| 225/225 [02:51<00:00,  1.31it/s]\n",
      "Validing: 100%|██████████| 29/29 [00:07<00:00,  4.10it/s]\n"
     ]
    },
    {
     "name": "stdout",
     "output_type": "stream",
     "text": [
      "epoch：135\t训练损失:1.159623\t测试损失:0.939406\t训练准确率:78.50%\t测试正确率:67.90%\t学习率:0.057304%\n"
     ]
    },
    {
     "name": "stderr",
     "output_type": "stream",
     "text": [
      "Training: 100%|██████████| 225/225 [02:48<00:00,  1.34it/s]\n",
      "Validing: 100%|██████████| 29/29 [00:07<00:00,  4.14it/s]\n"
     ]
    },
    {
     "name": "stdout",
     "output_type": "stream",
     "text": [
      "epoch：136\t训练损失:1.099833\t测试损失:0.957505\t训练准确率:78.33%\t测试正确率:68.51%\t学习率:0.056786%\n"
     ]
    },
    {
     "name": "stderr",
     "output_type": "stream",
     "text": [
      "Training: 100%|██████████| 225/225 [02:41<00:00,  1.40it/s]\n",
      "Validing: 100%|██████████| 29/29 [00:06<00:00,  4.35it/s]\n"
     ]
    },
    {
     "name": "stdout",
     "output_type": "stream",
     "text": [
      "epoch：137\t训练损失:1.178448\t测试损失:1.071969\t训练准确率:78.22%\t测试正确率:66.26%\t学习率:0.056267%\n"
     ]
    },
    {
     "name": "stderr",
     "output_type": "stream",
     "text": [
      "Training: 100%|██████████| 225/225 [02:35<00:00,  1.44it/s]\n",
      "Validing: 100%|██████████| 29/29 [00:06<00:00,  4.27it/s]\n"
     ]
    },
    {
     "name": "stdout",
     "output_type": "stream",
     "text": [
      "epoch：138\t训练损失:1.147738\t测试损失:0.947213\t训练准确率:78.66%\t测试正确率:67.90%\t学习率:0.055747%\n"
     ]
    },
    {
     "name": "stderr",
     "output_type": "stream",
     "text": [
      "Training: 100%|██████████| 225/225 [02:38<00:00,  1.42it/s]\n",
      "Validing: 100%|██████████| 29/29 [00:06<00:00,  4.34it/s]\n"
     ]
    },
    {
     "name": "stdout",
     "output_type": "stream",
     "text": [
      "epoch：139\t训练损失:1.226434\t测试损失:0.961752\t训练准确率:78.83%\t测试正确率:68.15%\t学习率:0.055226%\n"
     ]
    },
    {
     "name": "stderr",
     "output_type": "stream",
     "text": [
      "Training: 100%|██████████| 225/225 [02:36<00:00,  1.43it/s]\n",
      "Validing: 100%|██████████| 29/29 [00:07<00:00,  4.12it/s]\n"
     ]
    },
    {
     "name": "stdout",
     "output_type": "stream",
     "text": [
      "epoch：140\t训练损失:1.120317\t测试损失:0.958545\t训练准确率:79.20%\t测试正确率:68.10%\t学习率:0.054705%\n"
     ]
    },
    {
     "name": "stderr",
     "output_type": "stream",
     "text": [
      "Training: 100%|██████████| 225/225 [02:42<00:00,  1.39it/s]\n",
      "Validing: 100%|██████████| 29/29 [00:06<00:00,  4.31it/s]\n"
     ]
    },
    {
     "name": "stdout",
     "output_type": "stream",
     "text": [
      "epoch：141\t训练损失:1.127400\t测试损失:0.913653\t训练准确率:79.22%\t测试正确率:69.02%\t学习率:0.054184%\n"
     ]
    },
    {
     "name": "stderr",
     "output_type": "stream",
     "text": [
      "Training: 100%|██████████| 225/225 [02:39<00:00,  1.41it/s]\n",
      "Validing: 100%|██████████| 29/29 [00:06<00:00,  4.22it/s]\n"
     ]
    },
    {
     "name": "stdout",
     "output_type": "stream",
     "text": [
      "epoch：142\t训练损失:1.174321\t测试损失:1.031204\t训练准确率:79.10%\t测试正确率:68.60%\t学习率:0.053662%\n"
     ]
    },
    {
     "name": "stderr",
     "output_type": "stream",
     "text": [
      "Training: 100%|██████████| 225/225 [02:38<00:00,  1.42it/s]\n",
      "Validing: 100%|██████████| 29/29 [00:06<00:00,  4.36it/s]\n"
     ]
    },
    {
     "name": "stdout",
     "output_type": "stream",
     "text": [
      "epoch：143\t训练损失:1.100905\t测试损失:0.939256\t训练准确率:79.36%\t测试正确率:67.68%\t学习率:0.053140%\n"
     ]
    },
    {
     "name": "stderr",
     "output_type": "stream",
     "text": [
      "Training: 100%|██████████| 225/225 [02:35<00:00,  1.45it/s]\n",
      "Validing: 100%|██████████| 29/29 [00:06<00:00,  4.25it/s]\n"
     ]
    },
    {
     "name": "stdout",
     "output_type": "stream",
     "text": [
      "epoch：144\t训练损失:1.196188\t测试损失:1.032214\t训练准确率:79.72%\t测试正确率:68.57%\t学习率:0.052617%\n"
     ]
    },
    {
     "name": "stderr",
     "output_type": "stream",
     "text": [
      "Training: 100%|██████████| 225/225 [02:36<00:00,  1.44it/s]\n",
      "Validing: 100%|██████████| 29/29 [00:07<00:00,  4.05it/s]\n"
     ]
    },
    {
     "name": "stdout",
     "output_type": "stream",
     "text": [
      "epoch：145\t训练损失:1.205588\t测试损失:0.971042\t训练准确率:80.23%\t测试正确率:67.90%\t学习率:0.052094%\n"
     ]
    },
    {
     "name": "stderr",
     "output_type": "stream",
     "text": [
      "Training: 100%|██████████| 225/225 [02:37<00:00,  1.43it/s]\n",
      "Validing: 100%|██████████| 29/29 [00:06<00:00,  4.31it/s]\n"
     ]
    },
    {
     "name": "stdout",
     "output_type": "stream",
     "text": [
      "epoch：146\t训练损失:1.154828\t测试损失:0.986609\t训练准确率:80.29%\t测试正确率:68.01%\t学习率:0.051571%\n"
     ]
    },
    {
     "name": "stderr",
     "output_type": "stream",
     "text": [
      "Training: 100%|██████████| 225/225 [02:36<00:00,  1.44it/s]\n",
      "Validing: 100%|██████████| 29/29 [00:06<00:00,  4.34it/s]\n"
     ]
    },
    {
     "name": "stdout",
     "output_type": "stream",
     "text": [
      "epoch：147\t训练损失:1.126677\t测试损失:0.968919\t训练准确率:80.04%\t测试正确率:68.43%\t学习率:0.051047%\n"
     ]
    },
    {
     "name": "stderr",
     "output_type": "stream",
     "text": [
      "Training: 100%|██████████| 225/225 [02:36<00:00,  1.44it/s]\n",
      "Validing: 100%|██████████| 29/29 [00:06<00:00,  4.31it/s]\n"
     ]
    },
    {
     "name": "stdout",
     "output_type": "stream",
     "text": [
      "epoch：148\t训练损失:1.110089\t测试损失:0.986811\t训练准确率:80.25%\t测试正确率:67.71%\t学习率:0.050524%\n"
     ]
    },
    {
     "name": "stderr",
     "output_type": "stream",
     "text": [
      "Training: 100%|██████████| 225/225 [02:38<00:00,  1.42it/s]\n",
      "Validing: 100%|██████████| 29/29 [00:06<00:00,  4.28it/s]\n"
     ]
    },
    {
     "name": "stdout",
     "output_type": "stream",
     "text": [
      "epoch：149\t训练损失:1.181129\t测试损失:0.978198\t训练准确率:80.58%\t测试正确率:67.51%\t学习率:0.050000%\n"
     ]
    },
    {
     "name": "stderr",
     "output_type": "stream",
     "text": [
      "Training: 100%|██████████| 225/225 [02:36<00:00,  1.43it/s]\n",
      "Validing: 100%|██████████| 29/29 [00:06<00:00,  4.28it/s]\n"
     ]
    },
    {
     "name": "stdout",
     "output_type": "stream",
     "text": [
      "epoch：150\t训练损失:1.094487\t测试损失:0.964438\t训练准确率:80.12%\t测试正确率:67.76%\t学习率:0.049476%\n"
     ]
    },
    {
     "name": "stderr",
     "output_type": "stream",
     "text": [
      "Training: 100%|██████████| 225/225 [02:38<00:00,  1.42it/s]\n",
      "Validing: 100%|██████████| 29/29 [00:06<00:00,  4.32it/s]\n"
     ]
    },
    {
     "name": "stdout",
     "output_type": "stream",
     "text": [
      "epoch：151\t训练损失:1.096241\t测试损失:0.967226\t训练准确率:80.57%\t测试正确率:68.85%\t学习率:0.048953%\n"
     ]
    },
    {
     "name": "stderr",
     "output_type": "stream",
     "text": [
      "Training: 100%|██████████| 225/225 [02:37<00:00,  1.43it/s]\n",
      "Validing: 100%|██████████| 29/29 [00:06<00:00,  4.27it/s]\n"
     ]
    },
    {
     "name": "stdout",
     "output_type": "stream",
     "text": [
      "epoch：152\t训练损失:1.121675\t测试损失:0.986669\t训练准确率:80.88%\t测试正确率:67.54%\t学习率:0.048429%\n"
     ]
    },
    {
     "name": "stderr",
     "output_type": "stream",
     "text": [
      "Training: 100%|██████████| 225/225 [02:37<00:00,  1.43it/s]\n",
      "Validing: 100%|██████████| 29/29 [00:06<00:00,  4.32it/s]\n"
     ]
    },
    {
     "name": "stdout",
     "output_type": "stream",
     "text": [
      "epoch：153\t训练损失:1.156778\t测试损失:0.963416\t训练准确率:80.70%\t测试正确率:67.87%\t学习率:0.047906%\n"
     ]
    },
    {
     "name": "stderr",
     "output_type": "stream",
     "text": [
      "Training: 100%|██████████| 225/225 [02:38<00:00,  1.42it/s]\n",
      "Validing: 100%|██████████| 29/29 [00:06<00:00,  4.20it/s]\n"
     ]
    },
    {
     "name": "stdout",
     "output_type": "stream",
     "text": [
      "epoch：154\t训练损失:1.127684\t测试损失:0.953561\t训练准确率:80.62%\t测试正确率:68.51%\t学习率:0.047383%\n"
     ]
    },
    {
     "name": "stderr",
     "output_type": "stream",
     "text": [
      "Training: 100%|██████████| 225/225 [02:38<00:00,  1.42it/s]\n",
      "Validing: 100%|██████████| 29/29 [00:06<00:00,  4.38it/s]\n"
     ]
    },
    {
     "name": "stdout",
     "output_type": "stream",
     "text": [
      "epoch：155\t训练损失:1.164333\t测试损失:0.999773\t训练准确率:80.95%\t测试正确率:68.79%\t学习率:0.046860%\n"
     ]
    },
    {
     "name": "stderr",
     "output_type": "stream",
     "text": [
      "Training: 100%|██████████| 225/225 [02:31<00:00,  1.48it/s]\n",
      "Validing: 100%|██████████| 29/29 [00:06<00:00,  4.41it/s]\n"
     ]
    },
    {
     "name": "stdout",
     "output_type": "stream",
     "text": [
      "epoch：156\t训练损失:1.176784\t测试损失:0.960334\t训练准确率:81.07%\t测试正确率:68.46%\t学习率:0.046338%\n"
     ]
    },
    {
     "name": "stderr",
     "output_type": "stream",
     "text": [
      "Training: 100%|██████████| 225/225 [02:34<00:00,  1.45it/s]\n",
      "Validing: 100%|██████████| 29/29 [00:06<00:00,  4.39it/s]\n"
     ]
    },
    {
     "name": "stdout",
     "output_type": "stream",
     "text": [
      "epoch：157\t训练损失:1.147534\t测试损失:1.031347\t训练准确率:81.62%\t测试正确率:67.65%\t学习率:0.045816%\n"
     ]
    },
    {
     "name": "stderr",
     "output_type": "stream",
     "text": [
      "Training: 100%|██████████| 225/225 [02:35<00:00,  1.45it/s]\n",
      "Validing: 100%|██████████| 29/29 [00:06<00:00,  4.26it/s]\n"
     ]
    },
    {
     "name": "stdout",
     "output_type": "stream",
     "text": [
      "epoch：158\t训练损失:1.109634\t测试损失:0.956275\t训练准确率:81.85%\t测试正确率:68.71%\t学习率:0.045295%\n"
     ]
    },
    {
     "name": "stderr",
     "output_type": "stream",
     "text": [
      "Training: 100%|██████████| 225/225 [02:35<00:00,  1.45it/s]\n",
      "Validing: 100%|██████████| 29/29 [00:06<00:00,  4.42it/s]\n"
     ]
    },
    {
     "name": "stdout",
     "output_type": "stream",
     "text": [
      "epoch：159\t训练损失:1.074458\t测试损失:0.956113\t训练准确率:81.99%\t测试正确率:69.82%\t学习率:0.044774%\n",
      "best_model_saved 69.82446363889663\n"
     ]
    },
    {
     "name": "stderr",
     "output_type": "stream",
     "text": [
      "Training: 100%|██████████| 225/225 [02:33<00:00,  1.47it/s]\n",
      "Validing: 100%|██████████| 29/29 [00:06<00:00,  4.22it/s]\n"
     ]
    },
    {
     "name": "stdout",
     "output_type": "stream",
     "text": [
      "epoch：160\t训练损失:1.130499\t测试损失:0.975972\t训练准确率:81.48%\t测试正确率:68.79%\t学习率:0.044253%\n"
     ]
    },
    {
     "name": "stderr",
     "output_type": "stream",
     "text": [
      "Training: 100%|██████████| 225/225 [02:40<00:00,  1.41it/s]\n",
      "Validing: 100%|██████████| 29/29 [00:06<00:00,  4.19it/s]\n"
     ]
    },
    {
     "name": "stdout",
     "output_type": "stream",
     "text": [
      "epoch：161\t训练损失:1.149477\t测试损失:0.978925\t训练准确率:82.18%\t测试正确率:68.49%\t学习率:0.043733%\n"
     ]
    },
    {
     "name": "stderr",
     "output_type": "stream",
     "text": [
      "Training: 100%|██████████| 225/225 [02:35<00:00,  1.44it/s]\n",
      "Validing: 100%|██████████| 29/29 [00:06<00:00,  4.40it/s]\n"
     ]
    },
    {
     "name": "stdout",
     "output_type": "stream",
     "text": [
      "epoch：162\t训练损失:1.144046\t测试损失:1.010522\t训练准确率:82.60%\t测试正确率:67.32%\t学习率:0.043214%\n"
     ]
    },
    {
     "name": "stderr",
     "output_type": "stream",
     "text": [
      "Training: 100%|██████████| 225/225 [02:32<00:00,  1.47it/s]\n",
      "Validing: 100%|██████████| 29/29 [00:06<00:00,  4.29it/s]\n"
     ]
    },
    {
     "name": "stdout",
     "output_type": "stream",
     "text": [
      "epoch：163\t训练损失:1.094466\t测试损失:0.981291\t训练准确率:82.26%\t测试正确率:69.35%\t学习率:0.042696%\n"
     ]
    },
    {
     "name": "stderr",
     "output_type": "stream",
     "text": [
      "Training: 100%|██████████| 225/225 [02:34<00:00,  1.45it/s]\n",
      "Validing: 100%|██████████| 29/29 [00:06<00:00,  4.27it/s]\n"
     ]
    },
    {
     "name": "stdout",
     "output_type": "stream",
     "text": [
      "epoch：164\t训练损失:1.086367\t测试损失:0.993611\t训练准确率:82.60%\t测试正确率:67.87%\t学习率:0.042178%\n"
     ]
    },
    {
     "name": "stderr",
     "output_type": "stream",
     "text": [
      "Training: 100%|██████████| 225/225 [02:37<00:00,  1.43it/s]\n",
      "Validing: 100%|██████████| 29/29 [00:06<00:00,  4.40it/s]\n"
     ]
    },
    {
     "name": "stdout",
     "output_type": "stream",
     "text": [
      "epoch：165\t训练损失:1.007721\t测试损失:0.961043\t训练准确率:82.96%\t测试正确率:68.43%\t学习率:0.041662%\n"
     ]
    },
    {
     "name": "stderr",
     "output_type": "stream",
     "text": [
      "Training: 100%|██████████| 225/225 [02:37<00:00,  1.43it/s]\n",
      "Validing: 100%|██████████| 29/29 [00:07<00:00,  4.09it/s]\n"
     ]
    },
    {
     "name": "stdout",
     "output_type": "stream",
     "text": [
      "epoch：166\t训练损失:1.148187\t测试损失:0.944916\t训练准确率:82.74%\t测试正确率:70.30%\t学习率:0.041146%\n",
      "best_model_saved 70.29813318473113\n"
     ]
    },
    {
     "name": "stderr",
     "output_type": "stream",
     "text": [
      "Training: 100%|██████████| 225/225 [02:46<00:00,  1.35it/s]\n",
      "Validing: 100%|██████████| 29/29 [00:06<00:00,  4.27it/s]\n"
     ]
    },
    {
     "name": "stdout",
     "output_type": "stream",
     "text": [
      "epoch：167\t训练损失:1.087668\t测试损失:0.957784\t训练准确率:83.20%\t测试正确率:69.41%\t学习率:0.040631%\n"
     ]
    },
    {
     "name": "stderr",
     "output_type": "stream",
     "text": [
      "Training: 100%|██████████| 225/225 [02:41<00:00,  1.39it/s]\n",
      "Validing: 100%|██████████| 29/29 [00:06<00:00,  4.26it/s]\n"
     ]
    },
    {
     "name": "stdout",
     "output_type": "stream",
     "text": [
      "epoch：168\t训练损失:1.084860\t测试损失:0.956354\t训练准确率:82.97%\t测试正确率:69.60%\t学习率:0.040117%\n"
     ]
    },
    {
     "name": "stderr",
     "output_type": "stream",
     "text": [
      "Training: 100%|██████████| 225/225 [02:41<00:00,  1.39it/s]\n",
      "Validing: 100%|██████████| 29/29 [00:06<00:00,  4.27it/s]\n"
     ]
    },
    {
     "name": "stdout",
     "output_type": "stream",
     "text": [
      "epoch：169\t训练损失:1.118144\t测试损失:0.942807\t训练准确率:83.13%\t测试正确率:69.18%\t学习率:0.039604%\n"
     ]
    },
    {
     "name": "stderr",
     "output_type": "stream",
     "text": [
      "Training: 100%|██████████| 225/225 [02:40<00:00,  1.40it/s]\n",
      "Validing: 100%|██████████| 29/29 [00:06<00:00,  4.23it/s]\n"
     ]
    },
    {
     "name": "stdout",
     "output_type": "stream",
     "text": [
      "epoch：170\t训练损失:1.106131\t测试损失:0.925887\t训练准确率:83.53%\t测试正确率:69.24%\t学习率:0.039093%\n"
     ]
    },
    {
     "name": "stderr",
     "output_type": "stream",
     "text": [
      "Training: 100%|██████████| 225/225 [02:41<00:00,  1.39it/s]\n",
      "Validing: 100%|██████████| 29/29 [00:06<00:00,  4.25it/s]\n"
     ]
    },
    {
     "name": "stdout",
     "output_type": "stream",
     "text": [
      "epoch：171\t训练损失:1.093084\t测试损失:0.928156\t训练准确率:83.13%\t测试正确率:69.32%\t学习率:0.038582%\n"
     ]
    },
    {
     "name": "stderr",
     "output_type": "stream",
     "text": [
      "Training: 100%|██████████| 225/225 [02:40<00:00,  1.40it/s]\n",
      "Validing: 100%|██████████| 29/29 [00:06<00:00,  4.28it/s]\n"
     ]
    },
    {
     "name": "stdout",
     "output_type": "stream",
     "text": [
      "epoch：172\t训练损失:1.064820\t测试损失:1.035579\t训练准确率:83.84%\t测试正确率:66.82%\t学习率:0.038073%\n"
     ]
    },
    {
     "name": "stderr",
     "output_type": "stream",
     "text": [
      "Training: 100%|██████████| 225/225 [02:39<00:00,  1.41it/s]\n",
      "Validing: 100%|██████████| 29/29 [00:06<00:00,  4.25it/s]\n"
     ]
    },
    {
     "name": "stdout",
     "output_type": "stream",
     "text": [
      "epoch：173\t训练损失:1.022632\t测试损失:0.982113\t训练准确率:83.67%\t测试正确率:67.48%\t学习率:0.037566%\n"
     ]
    },
    {
     "name": "stderr",
     "output_type": "stream",
     "text": [
      "Training: 100%|██████████| 225/225 [02:40<00:00,  1.40it/s]\n",
      "Validing: 100%|██████████| 29/29 [00:06<00:00,  4.27it/s]\n"
     ]
    },
    {
     "name": "stdout",
     "output_type": "stream",
     "text": [
      "epoch：174\t训练损失:0.993660\t测试损失:0.987686\t训练准确率:83.92%\t测试正确率:68.07%\t学习率:0.037059%\n"
     ]
    },
    {
     "name": "stderr",
     "output_type": "stream",
     "text": [
      "Training: 100%|██████████| 225/225 [02:41<00:00,  1.39it/s]\n",
      "Validing: 100%|██████████| 29/29 [00:06<00:00,  4.26it/s]\n"
     ]
    },
    {
     "name": "stdout",
     "output_type": "stream",
     "text": [
      "epoch：175\t训练损失:1.064285\t测试损失:0.975056\t训练准确率:84.20%\t测试正确率:68.77%\t学习率:0.036554%\n"
     ]
    },
    {
     "name": "stderr",
     "output_type": "stream",
     "text": [
      "Training: 100%|██████████| 225/225 [02:40<00:00,  1.40it/s]\n",
      "Validing: 100%|██████████| 29/29 [00:06<00:00,  4.27it/s]\n"
     ]
    },
    {
     "name": "stdout",
     "output_type": "stream",
     "text": [
      "epoch：176\t训练损失:0.990753\t测试损失:0.919811\t训练准确率:84.81%\t测试正确率:69.80%\t学习率:0.036050%\n"
     ]
    },
    {
     "name": "stderr",
     "output_type": "stream",
     "text": [
      "Training: 100%|██████████| 225/225 [02:40<00:00,  1.40it/s]\n",
      "Validing: 100%|██████████| 29/29 [00:07<00:00,  4.12it/s]\n"
     ]
    },
    {
     "name": "stdout",
     "output_type": "stream",
     "text": [
      "epoch：177\t训练损失:1.136886\t测试损失:0.951982\t训练准确率:84.69%\t测试正确率:70.19%\t学习率:0.035548%\n"
     ]
    },
    {
     "name": "stderr",
     "output_type": "stream",
     "text": [
      "Training: 100%|██████████| 225/225 [02:49<00:00,  1.33it/s]\n",
      "Validing: 100%|██████████| 29/29 [00:06<00:00,  4.15it/s]\n"
     ]
    },
    {
     "name": "stdout",
     "output_type": "stream",
     "text": [
      "epoch：178\t训练损失:1.038256\t测试损失:0.941835\t训练准确率:84.55%\t测试正确率:69.30%\t学习率:0.035048%\n"
     ]
    },
    {
     "name": "stderr",
     "output_type": "stream",
     "text": [
      "Training: 100%|██████████| 225/225 [02:42<00:00,  1.39it/s]\n",
      "Validing: 100%|██████████| 29/29 [00:06<00:00,  4.17it/s]\n"
     ]
    },
    {
     "name": "stdout",
     "output_type": "stream",
     "text": [
      "epoch：179\t训练损失:1.078014\t测试损失:0.994837\t训练准确率:84.85%\t测试正确率:69.24%\t学习率:0.034549%\n"
     ]
    },
    {
     "name": "stderr",
     "output_type": "stream",
     "text": [
      "Training: 100%|██████████| 225/225 [02:41<00:00,  1.39it/s]\n",
      "Validing: 100%|██████████| 29/29 [00:06<00:00,  4.23it/s]\n"
     ]
    },
    {
     "name": "stdout",
     "output_type": "stream",
     "text": [
      "epoch：180\t训练损失:1.099019\t测试损失:0.993597\t训练准确率:85.46%\t测试正确率:69.60%\t学习率:0.034052%\n"
     ]
    },
    {
     "name": "stderr",
     "output_type": "stream",
     "text": [
      "Training: 100%|██████████| 225/225 [02:40<00:00,  1.40it/s]\n",
      "Validing: 100%|██████████| 29/29 [00:06<00:00,  4.23it/s]"
     ]
    },
    {
     "name": "stdout",
     "output_type": "stream",
     "text": [
      "epoch：181\t训练损失:1.062328\t测试损失:1.018720\t训练准确率:84.99%\t测试正确率:67.87%\t学习率:0.033557%\n"
     ]
    },
    {
     "name": "stderr",
     "output_type": "stream",
     "text": [
      "\n"
     ]
    }
   ],
   "source": [
    "\n",
    "for epoch in range(epoch):\n",
    "    # scheduler.step()\n",
    "    train_rights = [] \n",
    "    train_losses = []  # 初始化一个空列表来存储每个批次的测试损失\n",
    "    # Validloss_EachEpoch=0 \n",
    "    # Trainloss_EachEpoch=0\n",
    "    # Trainacc_EachEpoch=0\n",
    "    # Validacc_EachEpoch=0\n",
    "    Trainbar = tqdm(trainloader)\n",
    "    for index, (data, target) in enumerate(Trainbar):\n",
    "        Trainbar.set_description(\"Training\")\n",
    "        model.train()\n",
    "        data, target = data.cuda(), target.cuda()\n",
    "        data = data.type(torch.float32)\n",
    "        target = target.type(torch.float32)\n",
    "        data, target = Variable(data, requires_grad=True), Variable(target, requires_grad=True)  # 把数据转换成Variable\n",
    "        \n",
    "        # print(data)\n",
    "        # print(target)\n",
    "        optimizer.zero_grad()  # 优化器梯度初始化为零\n",
    "        \n",
    "        # output = model(data)  # 把数据输入网络并得到输出，即进行前向传播\n",
    "        # target = target.long()    \n",
    "        # loss = loss_func(output, target)  # 交叉熵损失函数\n",
    "                # 使用autocast进行自动混合精度\n",
    "        with autocast():\n",
    "            # output = model(data)  # 把数据输入网络并得到输出，即进行前向传播\n",
    "            # target = target.long()    \n",
    " \n",
    "            output = model(data)  # 把数据输入网络并得到输出，即进行前向传播\n",
    "            # loss = loss_func(output, target)  # 交叉熵损失函数\n",
    "\n",
    "            random_boolean = random.choice([True, False])\n",
    "            if random_boolean:\n",
    "                data, targets_a, targets_b, lam = mixup_data(data, target, alpha=1.0) #mixup\n",
    "                targets_a = targets_a.long()   \n",
    "                targets_b = targets_b.long()  \n",
    "                loss = lam * loss_func(output, targets_a) + (1 - lam) * loss_func(output, targets_b)\n",
    "            else:\n",
    "                target = target.long() \n",
    "                loss = loss_func(output, target)\n",
    "        # loss.backward()  # 反向传播梯度\n",
    "        # optimizer.step()  # 结束一次前传+反传之后，更新参数   \n",
    "                # 使用梯度缩放器进行反向传播\n",
    "        \n",
    "        # 使用梯度缩放器进行梯度更新\n",
    "        scaler.scale(loss).backward()\n",
    "        scaler.step(optimizer)\n",
    "        scaler.update()\n",
    "    # scheduler.batch_step()\n",
    "\n",
    "        right = accuracy(output, target) #一批次的准确率，数量大小是batchsize\n",
    "        train_rights.append(right) #所有批次的准确率，数量大小是iteration\n",
    "        train_losses.append(loss.item())  # 将每个批次的测试损失添加到列表中\n",
    "        \n",
    "        # if batch_idx % 100 ==0:\n",
    "        #     print('当前epoch：{} | 迭代iteration[{}/{} ({:.0f}%)]'.format(\n",
    "        #     epoch, \n",
    "        #     batch_idx,\n",
    "        #     len(trainloader),\n",
    "        #     100.* batch_idx /len(trainloader)\n",
    "        #     ))\n",
    "    scheduler.step()\n",
    "    # scheduler.step(epoch+index/len(trainloader))\n",
    "    train_r = (sum([tup[0] for tup in train_rights]),sum([tup[1] for tup in train_rights])) #所有的准确率相加，iteration次的batchsize的大小=epoch的总准确率，epochsize(数据集大小)\n",
    "    avg_train_loss = sum(train_losses) / len(train_losses)\n",
    "        \n",
    "    model.eval()\n",
    "    val_rights = []\n",
    "    val_losses = []  # 初始化一个空列表来存储每个批次的测试损失\n",
    "    Validbar = tqdm(PublicTestloader)\n",
    "    #with torch.no_grad():\n",
    "    for data, target in Validbar:\n",
    "        Validbar.set_description(\"Validing\")\n",
    "        data, target = data.cuda(), target.cuda()\n",
    "        data = data.type(torch.float32)\n",
    "        target = target.type(torch.float32)\n",
    "        data, target = Variable(data,requires_grad=True), Variable(target,requires_grad=True)  # 计算前要把变量变成Variable形式梯度\n",
    " \n",
    "        with autocast():\n",
    "            output = model(data)\n",
    "            target = target.long()\n",
    "            val_loss = loss_func(output, target)\n",
    "\n",
    "\n",
    "        # output = model(data)\n",
    "        right = accuracy(output, target)\n",
    "        val_rights.append(right)\n",
    "        # 计算测试损失\n",
    "        val_losses.append(val_loss.item())  # 将每个批次的测试损失添加到列表中\n",
    "        \n",
    "\n",
    "        #准确率计算\n",
    "        # 计算并存储平均测试损失  \n",
    "    val_r = (sum([tup[0] for tup in val_rights]),sum([tup[1] for tup in val_rights])) \n",
    "    avg_val_loss = sum(val_losses) / len(val_losses)  \n",
    "\n",
    "\n",
    "    train_r_cpu=train_r[0].cpu().numpy()/train_r[1] #epoch的平均准确率\n",
    "    val_r_cpu=val_r[0].cpu().numpy()/val_r[1]\n",
    "    \n",
    "    # Validloss_EachEpoch=avg_val_loss\n",
    "    # Trainloss_EachEpoch=avg_train_loss\n",
    "    # Trainacc_EachEpoch=train_r_cpu\n",
    "    # Validacc_EachEpoch=val_r_cpu\n",
    "# \n",
    "\n",
    "\n",
    "    print('epoch：{}\\t训练损失:{:.6f}\\t测试损失:{:.6f}\\t训练准确率:{:.2f}%\\t测试正确率:{:.2f}%\\t学习率:{:.6f}%'.format(\n",
    "    epoch, \n",
    "    avg_train_loss,\n",
    "    avg_val_loss,\n",
    "    100.*(train_r_cpu),\n",
    "    100.*(val_r_cpu),\n",
    "    optimizer.param_groups[0]['lr']\n",
    "    ))\n",
    "\n",
    "    train_acc.append(100.*(train_r_cpu))\n",
    "    valid_acc.append(100.*(val_r_cpu))\n",
    "    train_loss_list.append(avg_train_loss)\n",
    "    valid_loss_list.append(avg_val_loss)\n",
    "    lr_log.append(optimizer.param_groups[0]['lr'])\n",
    "    if 100.*(val_r_cpu) == max(valid_acc):\n",
    "        best_model=model #保存一个准确率最高的结果\n",
    "        torch.save(model.state_dict(), \"log/trainedModel/best.pth\")\n",
    "        print('best_model_saved',100.*(val_r_cpu))\n",
    "    # scheduler.step(Validloss_EachEpoch/Counter)  # 更新学习率\n",
    "    # if optimizer.param_groups[0]['lr'] < 0.0001:\n",
    "    #     optimizer.param_groups[0]['lr'] = 0.0001\n",
    "    if early_stopper.early_stop(avg_val_loss):             \n",
    "        break"
   ]
  },
  {
   "cell_type": "code",
   "execution_count": 2,
   "metadata": {},
   "outputs": [
    {
     "name": "stdout",
     "output_type": "stream",
     "text": [
      "ResNet(\n",
      "  (conv1): Conv2d(3, 64, kernel_size=(7, 7), stride=(2, 2), padding=(3, 3), bias=False)\n",
      "  (bn1): BatchNorm2d(64, eps=1e-05, momentum=0.1, affine=True, track_running_stats=True)\n",
      "  (relu): ReLU(inplace=True)\n",
      "  (ca): ChannelAttention(\n",
      "    (avg_pool): AdaptiveAvgPool2d(output_size=1)\n",
      "    (max_pool): AdaptiveMaxPool2d(output_size=1)\n",
      "    (fc1): Conv2d(64, 4, kernel_size=(1, 1), stride=(1, 1), bias=False)\n",
      "    (relu1): ReLU()\n",
      "    (fc2): Conv2d(4, 64, kernel_size=(1, 1), stride=(1, 1), bias=False)\n",
      "    (sigmoid): Sigmoid()\n",
      "  )\n",
      "  (sa): SpatialAttention(\n",
      "    (conv1): Conv2d(2, 1, kernel_size=(7, 7), stride=(1, 1), padding=(3, 3), bias=False)\n",
      "    (sigmoid): Sigmoid()\n",
      "  )\n",
      "  (maxpool): MaxPool2d(kernel_size=3, stride=2, padding=1, dilation=1, ceil_mode=False)\n",
      "  (layer1): Sequential(\n",
      "    (0): BasicBlock(\n",
      "      (conv1): Conv2d(64, 64, kernel_size=(3, 3), stride=(1, 1), padding=(1, 1), bias=False)\n",
      "      (bn1): BatchNorm2d(64, eps=1e-05, momentum=0.1, affine=True, track_running_stats=True)\n",
      "      (relu): ReLU(inplace=True)\n",
      "      (conv2): Conv2d(64, 64, kernel_size=(3, 3), stride=(1, 1), padding=(1, 1), bias=False)\n",
      "      (bn2): BatchNorm2d(64, eps=1e-05, momentum=0.1, affine=True, track_running_stats=True)\n",
      "    )\n",
      "    (1): BasicBlock(\n",
      "      (conv1): Conv2d(64, 64, kernel_size=(3, 3), stride=(1, 1), padding=(1, 1), bias=False)\n",
      "      (bn1): BatchNorm2d(64, eps=1e-05, momentum=0.1, affine=True, track_running_stats=True)\n",
      "      (relu): ReLU(inplace=True)\n",
      "      (conv2): Conv2d(64, 64, kernel_size=(3, 3), stride=(1, 1), padding=(1, 1), bias=False)\n",
      "      (bn2): BatchNorm2d(64, eps=1e-05, momentum=0.1, affine=True, track_running_stats=True)\n",
      "    )\n",
      "  )\n",
      "  (layer2): Sequential(\n",
      "    (0): BasicBlock(\n",
      "      (conv1): Conv2d(64, 128, kernel_size=(3, 3), stride=(2, 2), padding=(1, 1), bias=False)\n",
      "      (bn1): BatchNorm2d(128, eps=1e-05, momentum=0.1, affine=True, track_running_stats=True)\n",
      "      (relu): ReLU(inplace=True)\n",
      "      (conv2): Conv2d(128, 128, kernel_size=(3, 3), stride=(1, 1), padding=(1, 1), bias=False)\n",
      "      (bn2): BatchNorm2d(128, eps=1e-05, momentum=0.1, affine=True, track_running_stats=True)\n",
      "      (downsample): Sequential(\n",
      "        (0): Conv2d(64, 128, kernel_size=(1, 1), stride=(2, 2), bias=False)\n",
      "        (1): BatchNorm2d(128, eps=1e-05, momentum=0.1, affine=True, track_running_stats=True)\n",
      "      )\n",
      "    )\n",
      "    (1): BasicBlock(\n",
      "      (conv1): Conv2d(128, 128, kernel_size=(3, 3), stride=(1, 1), padding=(1, 1), bias=False)\n",
      "      (bn1): BatchNorm2d(128, eps=1e-05, momentum=0.1, affine=True, track_running_stats=True)\n",
      "      (relu): ReLU(inplace=True)\n",
      "      (conv2): Conv2d(128, 128, kernel_size=(3, 3), stride=(1, 1), padding=(1, 1), bias=False)\n",
      "      (bn2): BatchNorm2d(128, eps=1e-05, momentum=0.1, affine=True, track_running_stats=True)\n",
      "    )\n",
      "  )\n",
      "  (layer3): Sequential(\n",
      "    (0): BasicBlock(\n",
      "      (conv1): Conv2d(128, 256, kernel_size=(3, 3), stride=(2, 2), padding=(1, 1), bias=False)\n",
      "      (bn1): BatchNorm2d(256, eps=1e-05, momentum=0.1, affine=True, track_running_stats=True)\n",
      "      (relu): ReLU(inplace=True)\n",
      "      (conv2): Conv2d(256, 256, kernel_size=(3, 3), stride=(1, 1), padding=(1, 1), bias=False)\n",
      "      (bn2): BatchNorm2d(256, eps=1e-05, momentum=0.1, affine=True, track_running_stats=True)\n",
      "      (downsample): Sequential(\n",
      "        (0): Conv2d(128, 256, kernel_size=(1, 1), stride=(2, 2), bias=False)\n",
      "        (1): BatchNorm2d(256, eps=1e-05, momentum=0.1, affine=True, track_running_stats=True)\n",
      "      )\n",
      "    )\n",
      "    (1): BasicBlock(\n",
      "      (conv1): Conv2d(256, 256, kernel_size=(3, 3), stride=(1, 1), padding=(1, 1), bias=False)\n",
      "      (bn1): BatchNorm2d(256, eps=1e-05, momentum=0.1, affine=True, track_running_stats=True)\n",
      "      (relu): ReLU(inplace=True)\n",
      "      (conv2): Conv2d(256, 256, kernel_size=(3, 3), stride=(1, 1), padding=(1, 1), bias=False)\n",
      "      (bn2): BatchNorm2d(256, eps=1e-05, momentum=0.1, affine=True, track_running_stats=True)\n",
      "    )\n",
      "  )\n",
      "  (layer4): Sequential(\n",
      "    (0): BasicBlock(\n",
      "      (conv1): Conv2d(256, 512, kernel_size=(3, 3), stride=(2, 2), padding=(1, 1), bias=False)\n",
      "      (bn1): BatchNorm2d(512, eps=1e-05, momentum=0.1, affine=True, track_running_stats=True)\n",
      "      (relu): ReLU(inplace=True)\n",
      "      (conv2): Conv2d(512, 512, kernel_size=(3, 3), stride=(1, 1), padding=(1, 1), bias=False)\n",
      "      (bn2): BatchNorm2d(512, eps=1e-05, momentum=0.1, affine=True, track_running_stats=True)\n",
      "      (downsample): Sequential(\n",
      "        (0): Conv2d(256, 512, kernel_size=(1, 1), stride=(2, 2), bias=False)\n",
      "        (1): BatchNorm2d(512, eps=1e-05, momentum=0.1, affine=True, track_running_stats=True)\n",
      "      )\n",
      "    )\n",
      "    (1): BasicBlock(\n",
      "      (conv1): Conv2d(512, 512, kernel_size=(3, 3), stride=(1, 1), padding=(1, 1), bias=False)\n",
      "      (bn1): BatchNorm2d(512, eps=1e-05, momentum=0.1, affine=True, track_running_stats=True)\n",
      "      (relu): ReLU(inplace=True)\n",
      "      (conv2): Conv2d(512, 512, kernel_size=(3, 3), stride=(1, 1), padding=(1, 1), bias=False)\n",
      "      (bn2): BatchNorm2d(512, eps=1e-05, momentum=0.1, affine=True, track_running_stats=True)\n",
      "    )\n",
      "  )\n",
      "  (ca1): ChannelAttention(\n",
      "    (avg_pool): AdaptiveAvgPool2d(output_size=1)\n",
      "    (max_pool): AdaptiveMaxPool2d(output_size=1)\n",
      "    (fc1): Conv2d(512, 32, kernel_size=(1, 1), stride=(1, 1), bias=False)\n",
      "    (relu1): ReLU()\n",
      "    (fc2): Conv2d(32, 512, kernel_size=(1, 1), stride=(1, 1), bias=False)\n",
      "    (sigmoid): Sigmoid()\n",
      "  )\n",
      "  (sa1): SpatialAttention(\n",
      "    (conv1): Conv2d(2, 1, kernel_size=(7, 7), stride=(1, 1), padding=(3, 3), bias=False)\n",
      "    (sigmoid): Sigmoid()\n",
      "  )\n",
      "  (avgpool): AdaptiveAvgPool2d(output_size=(1, 1))\n",
      "  (fc): Linear(in_features=512, out_features=1000, bias=True)\n",
      ")\n"
     ]
    }
   ],
   "source": [
    "# import CBAM_ResNet18\n",
    "# device = torch.device(\"cuda:0\" if torch.cuda.is_available() else \"cpu\")\n",
    "# best_model = CBAM_ResNet18.cbam_resnet18().to(device)\n",
    "# best_model.load_state_dict(torch.load('log/trainedModel/SE_ResNet_model2_FER2013_AmdaW_20240411.pth'))\n",
    "# print(model)"
   ]
  },
  {
   "cell_type": "code",
   "execution_count": 42,
   "metadata": {},
   "outputs": [
    {
     "name": "stderr",
     "output_type": "stream",
     "text": [
      "Validing: 100%|██████████| 29/29 [00:06<00:00,  4.27it/s]\n"
     ]
    },
    {
     "name": "stdout",
     "output_type": "stream",
     "text": [
      "精度 0.7029813318473113\n",
      "损失 0.9415070568693096\n"
     ]
    },
    {
     "data": {
      "image/png": "[encoded data removed]",
      "text/plain": [
       "<Figure size 640x480 with 2 Axes>"
      ]
     },
     "metadata": {},
     "output_type": "display_data"
    }
   ],
   "source": [
    "import SEResNet\n",
    "from utils import result\n",
    "device = torch.device(\"cuda:0\" if torch.cuda.is_available() else \"cpu\")\n",
    "load_model = SEResNet.se_resnet_18().to(device)\n",
    "load_model.load_state_dict(torch.load('log/trainedModel/best.pth'))\n",
    "plt=result(PublicTestloader,load_model)\n",
    "plt.show()"
   ]
  },
  {
   "cell_type": "code",
   "execution_count": 43,
   "metadata": {},
   "outputs": [],
   "source": [
    "x1 = range(0, len(train_acc))\n",
    "x2 = range(0, len(valid_acc))\n",
    "x3 = range(0, len(train_loss_list))\n",
    "x4 = range(0, len(valid_loss_list))\n",
    "x5 = range(0, len(lr_log))\n",
    "y1 = train_acc\n",
    "y2 = valid_acc\n",
    "y3 = train_loss_list\n",
    "y4 = valid_loss_list\n",
    "y5 = lr_log"
   ]
  },
  {
   "cell_type": "code",
   "execution_count": 45,
   "metadata": {},
   "outputs": [],
   "source": [
    "# modelname=\"SeResNet_model4_adamwWithCycle_20240405\"\n",
    "modelname=\"SE_ResNet_model2_FER2013_SDB_Cos_mixup_20240415\"\n",
    "loca=\"log/trainedData/\"\n",
    "csvname=loca+modelname+\".csv\"\n",
    "with open(\n",
    "    f\"{csvname}\", \"w\", newline=\"\"\n",
    ") as csvfile:\n",
    "    writer = csv.writer(csvfile)\n",
    "    writer.writerow(\n",
    "        [\"Epoch\"]\n",
    "        +\n",
    "        [\"TrainAcc\"]\n",
    "        + \n",
    "        [\"ValidAcc\"]\n",
    "        +\n",
    "        [\"TrainLoss\"]\n",
    "        + \n",
    "        [\"ValidLoss\"]\n",
    "        +\n",
    "        [\"LR\"]\n",
    "    )\n",
    "for index in x1:\n",
    "    with open(\n",
    "        f\"{csvname}\", \"a\", newline=\"\"\n",
    "    ) as csvfile:\n",
    "        writer = csv.writer(csvfile)\n",
    "        row = [index] + [y1[index]] + [y2[index]] + [y3[index]] + [y4[index]] + [y5[index]]\n",
    "        writer.writerow(row)"
   ]
  },
  {
   "cell_type": "code",
   "execution_count": 46,
   "metadata": {},
   "outputs": [],
   "source": [
    "torch.save(load_model.state_dict(), \"log/trainedModel/\"+modelname+'.pth')"
   ]
  },
  {
   "cell_type": "code",
   "execution_count": null,
   "metadata": {},
   "outputs": [],
   "source": [
    "# torch.save(model, 'SeResNet_model.pth')"
   ]
  },
  {
   "cell_type": "code",
   "execution_count": 29,
   "metadata": {},
   "outputs": [
    {
     "name": "stderr",
     "output_type": "stream",
     "text": [
      "d:\\anaconda\\envs\\fuck\\lib\\site-packages\\ipykernel_launcher.py:14: MatplotlibDeprecationWarning: The 'b' parameter of grid() has been renamed 'visible' since Matplotlib 3.5; support for the old name will be dropped two minor releases later.\n",
      "  \n",
      "d:\\anaconda\\envs\\fuck\\lib\\site-packages\\ipykernel_launcher.py:25: MatplotlibDeprecationWarning: The 'b' parameter of grid() has been renamed 'visible' since Matplotlib 3.5; support for the old name will be dropped two minor releases later.\n",
      "d:\\anaconda\\envs\\fuck\\lib\\site-packages\\ipykernel_launcher.py:33: MatplotlibDeprecationWarning: The 'b' parameter of grid() has been renamed 'visible' since Matplotlib 3.5; support for the old name will be dropped two minor releases later.\n"
     ]
    },
    {
     "data": {
      "image/png": "[encoded data removed]",
      "text/plain": [
       "<Figure size 600x1200 with 3 Axes>"
      ]
     },
     "metadata": {},
     "output_type": "display_data"
    }
   ],
   "source": [
    "import numpy as np\n",
    "from matplotlib import pyplot as plt\n",
    " \n",
    "plt.figure(figsize=(6, 12))\n",
    "\n",
    "# 训练和验证的准确率图像\n",
    "plt.subplot(3, 1, 1)\n",
    "plt.plot(x1, y1, label='Train Accuracy')\n",
    "plt.plot(x2, y2, color='red', label='Valid Accuracy')\n",
    "plt.title('Train vs Valid Accuracy')\n",
    "plt.ylabel('Accuracy unit:%')\n",
    "# my_yTicks1 = np.arange(0, 110, 10)\n",
    "# plt.yticks(my_yTicks1)\n",
    "plt.grid(b=True, linestyle=\"--\", alpha=0.5,axis=\"both\")\n",
    "plt.legend()\n",
    "\n",
    "# 训练和验证的损失图像\n",
    "plt.subplot(3, 1, 2)\n",
    "plt.plot(x3, y3, label='Train Loss')\n",
    "plt.plot(x4, y4, color='red', label='Valid Loss')\n",
    "plt.title('Train vs Valid Loss')\n",
    "plt.ylabel('Loss')\n",
    "# my_yTicks2 = np.arange(0, 3, 0.5)\n",
    "# plt.yticks(my_yTicks2)\n",
    "plt.grid(b=True, linestyle=\"--\", alpha=0.5,axis=\"both\")\n",
    "plt.legend()\n",
    "\n",
    "plt.subplot(3, 1, 3)\n",
    "plt.plot(x5, y5, color='purple', label='lr')\n",
    "plt.title('LearningRate')\n",
    "plt.ylabel('lr unit:%')\n",
    "plt.xlabel('Epochs')\n",
    "plt.grid(b=True, linestyle=\"--\", alpha=0.5,axis=\"both\")\n",
    "\n",
    "plt.show()"
   ]
  },
  {
   "cell_type": "code",
   "execution_count": 44,
   "metadata": {},
   "outputs": [
    {
     "name": "stderr",
     "output_type": "stream",
     "text": [
      "d:\\anaconda\\envs\\fuck\\lib\\site-packages\\ipykernel_launcher.py:11: MatplotlibDeprecationWarning: The 'b' parameter of grid() has been renamed 'visible' since Matplotlib 3.5; support for the old name will be dropped two minor releases later.\n",
      "  # This is added back by InteractiveShellApp.init_path()\n",
      "d:\\anaconda\\envs\\fuck\\lib\\site-packages\\ipykernel_launcher.py:23: MatplotlibDeprecationWarning: The 'b' parameter of grid() has been renamed 'visible' since Matplotlib 3.5; support for the old name will be dropped two minor releases later.\n",
      "d:\\anaconda\\envs\\fuck\\lib\\site-packages\\ipykernel_launcher.py:30: MatplotlibDeprecationWarning: The 'b' parameter of grid() has been renamed 'visible' since Matplotlib 3.5; support for the old name will be dropped two minor releases later.\n"
     ]
    },
    {
     "data": {
      "image/png": "[encoded data removed]",
      "text/plain": [
       "<Figure size 1800x600 with 3 Axes>"
      ]
     },
     "metadata": {},
     "output_type": "display_data"
    }
   ],
   "source": [
    "plt.figure(figsize=(18, 6))\n",
    "\n",
    "# 训练和验证的准确率图像\n",
    "plt.subplot(1, 3, 1)\n",
    "plt.plot(x1, y1, label='Train Accuracy')\n",
    "plt.plot(x2, y2, color='red', label='Valid Accuracy')\n",
    "plt.title('Train vs Valid Accuracy')\n",
    "plt.ylabel('Accuracy unit:%')\n",
    "# my_yTicks1 = np.arange(0, 110, 10)\n",
    "# plt.yticks(my_yTicks1)\n",
    "plt.grid(b=True, linestyle=\"--\", alpha=0.5,axis=\"both\")\n",
    "plt.legend()\n",
    "\n",
    "# 训练和验证的损失图像\n",
    "plt.subplot(1, 3, 2)\n",
    "plt.plot(x3, y3, label='Train Loss')\n",
    "plt.plot(x4, y4, color='red', label='Valid Loss')\n",
    "plt.title('Train vs Valid Loss')\n",
    "plt.xlabel('Epochs')\n",
    "plt.ylabel('Loss')\n",
    "# my_yTicks2 = np.arange(0, 3, 0.5)\n",
    "# plt.yticks(my_yTicks2)\n",
    "plt.grid(b=True, linestyle=\"--\", alpha=0.5,axis=\"both\")\n",
    "plt.legend()\n",
    "\n",
    "plt.subplot(1, 3, 3)\n",
    "plt.plot(x5, y5, color='purple', label='lr')\n",
    "plt.title('LearningRate')\n",
    "plt.ylabel('lr unit:%')\n",
    "plt.grid(b=True, linestyle=\"--\", alpha=0.5,axis=\"both\")\n",
    "plt.legend()\n",
    "\n",
    "plt.show()"
   ]
  },
  {
   "cell_type": "code",
   "execution_count": 443,
   "metadata": {},
   "outputs": [
    {
     "name": "stderr",
     "output_type": "stream",
     "text": [
      "d:\\anaconda\\envs\\fuck\\lib\\site-packages\\ipykernel_launcher.py:8: MatplotlibDeprecationWarning: The 'b' parameter of grid() has been renamed 'visible' since Matplotlib 3.5; support for the old name will be dropped two minor releases later.\n",
      "  \n"
     ]
    },
    {
     "data": {
      "image/png": "[encoded data removed]",
      "text/plain": [
       "<Figure size 600x600 with 1 Axes>"
      ]
     },
     "metadata": {},
     "output_type": "display_data"
    }
   ],
   "source": [
    "plt.figure(figsize=(6, 6))\n",
    "\n",
    "# 训练和验证的准确率图像\n",
    "plt.subplot(1, 1, 1)\n",
    "plt.plot(x5, y5, color='purple', label='lr')\n",
    "plt.title('LearningRate')\n",
    "plt.ylabel('lr unit:%')\n",
    "plt.grid(b=True, linestyle=\"--\", alpha=0.5,axis=\"both\")\n",
    "plt.legend()\n",
    "plt.show()"
   ]
  },
  {
   "cell_type": "code",
   "execution_count": 444,
   "metadata": {},
   "outputs": [
    {
     "name": "stderr",
     "output_type": "stream",
     "text": [
      "d:\\anaconda\\envs\\fuck\\lib\\site-packages\\ipykernel_launcher.py:11: MatplotlibDeprecationWarning: The 'b' parameter of grid() has been renamed 'visible' since Matplotlib 3.5; support for the old name will be dropped two minor releases later.\n",
      "  # This is added back by InteractiveShellApp.init_path()\n"
     ]
    },
    {
     "data": {
      "image/png": "[encoded data removed]",
      "text/plain": [
       "<Figure size 600x600 with 1 Axes>"
      ]
     },
     "metadata": {},
     "output_type": "display_data"
    }
   ],
   "source": [
    "# 训练和验证的损失图像\n",
    "plt.figure(figsize=(6, 6))\n",
    "plt.subplot(1, 1, 1)\n",
    "plt.plot(x3, y3, label='Train Loss')\n",
    "plt.plot(x4, y4, color='red', label='Valid Loss')\n",
    "plt.title('Train vs Valid Loss')\n",
    "plt.xlabel('Epochs')\n",
    "plt.ylabel('Loss')\n",
    "my_yTicks2 = np.arange(0, 3, 0.5)\n",
    "plt.yticks(my_yTicks2)\n",
    "plt.grid(b=True, linestyle=\"--\", alpha=0.5,axis=\"both\")\n",
    "plt.legend()\n",
    "plt.show()"
   ]
  },
  {
   "cell_type": "code",
   "execution_count": 445,
   "metadata": {},
   "outputs": [
    {
     "name": "stderr",
     "output_type": "stream",
     "text": [
      "d:\\anaconda\\envs\\fuck\\lib\\site-packages\\ipykernel_launcher.py:11: MatplotlibDeprecationWarning: The 'b' parameter of grid() has been renamed 'visible' since Matplotlib 3.5; support for the old name will be dropped two minor releases later.\n",
      "  # This is added back by InteractiveShellApp.init_path()\n"
     ]
    },
    {
     "data": {
      "image/png": "[encoded data removed]",
      "text/plain": [
       "<Figure size 600x600 with 1 Axes>"
      ]
     },
     "metadata": {},
     "output_type": "display_data"
    }
   ],
   "source": [
    "plt.figure(figsize=(6, 6))\n",
    "\n",
    "# 训练和验证的准确率图像\n",
    "plt.subplot(1, 1, 1)\n",
    "plt.plot(x1, y1, label='Train Accuracy')\n",
    "plt.plot(x2, y2, color='red', label='Valid Accuracy')\n",
    "plt.title('Train vs Valid Accuracy')\n",
    "plt.ylabel('Accuracy unit:%')\n",
    "my_yTicks1 = np.arange(0, 110, 10)\n",
    "plt.yticks(my_yTicks1)\n",
    "plt.grid(b=True, linestyle=\"--\", alpha=0.5,axis=\"both\")\n",
    "plt.legend()\n",
    "plt.show()\n",
    "\n"
   ]
  }
 ],
 "metadata": {
  "kernelspec": {
   "display_name": "fuck",
   "language": "python",
   "name": "python3"
  },
  "language_info": {
   "codemirror_mode": {
    "name": "ipython",
    "version": 3
   },
   "file_extension": ".py",
   "mimetype": "text/x-python",
   "name": "python",
   "nbconvert_exporter": "python",
   "pygments_lexer": "ipython3",
   "version": "3.7.2"
  }
 },
 "nbformat": 4,
 "nbformat_minor": 2
}
